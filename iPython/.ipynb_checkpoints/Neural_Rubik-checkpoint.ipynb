{
 "cells": [
  {
   "cell_type": "markdown",
   "metadata": {},
   "source": [
    "# <center> <img src='../images/fsktm.jpg' width=\"500\" height=\"400\"> </center>\n",
    "# <center> WQD7002 - SCIENCE DATA RESEARCH PROJECT </center>\n",
    "## <center> NEURAL RUBIK’S </center>\n",
    "## <center> Solving Rubik's Cube Using Nueral Network (Hueristic Learning) </center>\n",
    "### <center> Scripted by : Gunasegarran Magadevan (WQD170002) </center>\n",
    "### <center> Supervised by : Dr.Aznul Qalid Md Sabri </center>\n",
    "# <center> <img src=\"../images/RubiksNeural.jpg\" width=\"500\" height=\"600\"> </center>\n",
    "----\n",
    "\n"
   ]
  },
  {
   "cell_type": "markdown",
   "metadata": {
    "collapsed": true
   },
   "source": [
    "### STEP 1 : Installing and upgrading the package"
   ]
  },
  {
   "cell_type": "code",
   "execution_count": 1,
   "metadata": {
    "collapsed": true
   },
   "outputs": [],
   "source": [
    "# Upgrading the pip package to the latest version\n",
    "!python -m pip install PyHamcrest --upgrade --quiet\n",
    "!python -m pip install tensorflow --upgrade --quiet\n",
    "!python -m pip install rubikai --no-cache-dir --upgrade --quiet\n",
    "!python -m pip install seaborn --no-cache-dir --upgrade --quiet\n",
    "!python -m pip install keras --upgrade --quiet\n",
    "!python -m pip install numpy --upgrade --quiet"
   ]
  },
  {
   "cell_type": "markdown",
   "metadata": {},
   "source": [
    "### STEP 2 : Importing the package"
   ]
  },
  {
   "cell_type": "code",
   "execution_count": 2,
   "metadata": {},
   "outputs": [
    {
     "name": "stderr",
     "output_type": "stream",
     "text": [
      "/anaconda3/lib/python3.6/site-packages/h5py/__init__.py:34: FutureWarning: Conversion of the second argument of issubdtype from `float` to `np.floating` is deprecated. In future, it will be treated as `np.float64 == np.dtype(float).type`.\n",
      "  from ._conv import register_converters as _register_converters\n",
      "Using TensorFlow backend.\n"
     ]
    }
   ],
   "source": [
    "# Importing packages\n",
    "import rubikai as rubik             # To use Rubik's Cube features and Heuristic search.\n",
    "import numpy as np                  # To manipulate large multi-dimensional arrays .\n",
    "import pandas as pd                 # To use data structures and data analysis tools.\n",
    "import seaborn as sns               # To create statistical graphics.\n",
    "import matplotlib.pyplot as plt     # To create 2D graphics.\n",
    "import keras                        # High-level neural networks.\n",
    "import h5py                         #\n",
    "import os                   "
   ]
  },
  {
   "cell_type": "markdown",
   "metadata": {},
   "source": [
    "### STEP 3 : Rubik's Cube Module"
   ]
  },
  {
   "cell_type": "code",
   "execution_count": 3,
   "metadata": {
    "collapsed": true
   },
   "outputs": [],
   "source": [
    "# Set as 3Dim (3by3)\n",
    "dimCube = 3 "
   ]
  },
  {
   "cell_type": "markdown",
   "metadata": {},
   "source": [
    "#### STEP 3.1 : Randomly "
   ]
  },
  {
   "cell_type": "code",
   "execution_count": 4,
   "metadata": {},
   "outputs": [
    {
     "name": "stdout",
     "output_type": "stream",
     "text": [
      "Applying sequence: U L B' R' F\n",
      "    \u001b[42m\u001b[37mG\u001b[0m\u001b[42m\u001b[37mG\u001b[0m\u001b[42m\u001b[37mG\u001b[0m\n",
      "    \u001b[43m\u001b[37mY\u001b[0m\u001b[45m\u001b[37mO\u001b[0m\u001b[42m\u001b[37mG\u001b[0m\n",
      "    \u001b[47m\u001b[30mW\u001b[0m\u001b[47m\u001b[30mW\u001b[0m\u001b[47m\u001b[30mW\u001b[0m\n",
      "\n",
      "\u001b[47m\u001b[30mW\u001b[0m\u001b[42m\u001b[37mG\u001b[0m\u001b[44m\u001b[37mB\u001b[0m \u001b[45m\u001b[37mO\u001b[0m\u001b[45m\u001b[37mO\u001b[0m\u001b[45m\u001b[37mO\u001b[0m \u001b[42m\u001b[37mG\u001b[0m\u001b[45m\u001b[37mO\u001b[0m\u001b[45m\u001b[37mO\u001b[0m \u001b[43m\u001b[37mY\u001b[0m\u001b[41m\u001b[37mR\u001b[0m\u001b[41m\u001b[37mR\u001b[0m\n",
      "\u001b[41m\u001b[37mR\u001b[0m\u001b[42m\u001b[37mG\u001b[0m\u001b[41m\u001b[37mR\u001b[0m \u001b[47m\u001b[30mW\u001b[0m\u001b[47m\u001b[30mW\u001b[0m\u001b[44m\u001b[37mB\u001b[0m \u001b[45m\u001b[37mO\u001b[0m\u001b[44m\u001b[37mB\u001b[0m\u001b[44m\u001b[37mB\u001b[0m \u001b[41m\u001b[37mR\u001b[0m\u001b[43m\u001b[37mY\u001b[0m\u001b[43m\u001b[37mY\u001b[0m\n",
      "\u001b[41m\u001b[37mR\u001b[0m\u001b[42m\u001b[37mG\u001b[0m\u001b[44m\u001b[37mB\u001b[0m \u001b[45m\u001b[37mO\u001b[0m\u001b[45m\u001b[37mO\u001b[0m\u001b[42m\u001b[37mG\u001b[0m \u001b[41m\u001b[37mR\u001b[0m\u001b[44m\u001b[37mB\u001b[0m\u001b[44m\u001b[37mB\u001b[0m \u001b[41m\u001b[37mR\u001b[0m\u001b[43m\u001b[37mY\u001b[0m\u001b[43m\u001b[37mY\u001b[0m\n",
      "\n",
      "    \u001b[43m\u001b[37mY\u001b[0m\u001b[43m\u001b[37mY\u001b[0m\u001b[43m\u001b[37mY\u001b[0m\n",
      "    \u001b[47m\u001b[30mW\u001b[0m\u001b[41m\u001b[37mR\u001b[0m\u001b[47m\u001b[30mW\u001b[0m\n",
      "    \u001b[44m\u001b[37mB\u001b[0m\u001b[44m\u001b[37mB\u001b[0m\u001b[47m\u001b[30mW\u001b[0m\n",
      "\n"
     ]
    }
   ],
   "source": [
    "# Manually scrambled\n",
    "notation1 = \"U L B' R' F\"\n",
    "print('Applying sequence:', notation1)\n",
    "sampleCube1 = rubik.Cube(dimCube).apply(notation1)\n",
    "print(sampleCube1)"
   ]
  },
  {
   "cell_type": "code",
   "execution_count": 5,
   "metadata": {},
   "outputs": [
    {
     "name": "stdout",
     "output_type": "stream",
     "text": [
      "Applying random sequence: [D', F', U, R]\n",
      "    \u001b[44m\u001b[37mB\u001b[0m\u001b[45m\u001b[37mO\u001b[0m\u001b[44m\u001b[37mB\u001b[0m\n",
      "    \u001b[44m\u001b[37mB\u001b[0m\u001b[45m\u001b[37mO\u001b[0m\u001b[44m\u001b[37mB\u001b[0m\n",
      "    \u001b[43m\u001b[37mY\u001b[0m\u001b[45m\u001b[37mO\u001b[0m\u001b[44m\u001b[37mB\u001b[0m\n",
      "\n",
      "\u001b[47m\u001b[30mW\u001b[0m\u001b[47m\u001b[30mW\u001b[0m\u001b[44m\u001b[37mB\u001b[0m \u001b[41m\u001b[37mR\u001b[0m\u001b[44m\u001b[37mB\u001b[0m\u001b[47m\u001b[30mW\u001b[0m \u001b[41m\u001b[37mR\u001b[0m\u001b[41m\u001b[37mR\u001b[0m\u001b[43m\u001b[37mY\u001b[0m \u001b[45m\u001b[37mO\u001b[0m\u001b[42m\u001b[37mG\u001b[0m\u001b[45m\u001b[37mO\u001b[0m\n",
      "\u001b[42m\u001b[37mG\u001b[0m\u001b[42m\u001b[37mG\u001b[0m\u001b[45m\u001b[37mO\u001b[0m \u001b[47m\u001b[30mW\u001b[0m\u001b[47m\u001b[30mW\u001b[0m\u001b[41m\u001b[37mR\u001b[0m \u001b[43m\u001b[37mY\u001b[0m\u001b[44m\u001b[37mB\u001b[0m\u001b[43m\u001b[37mY\u001b[0m \u001b[45m\u001b[37mO\u001b[0m\u001b[43m\u001b[37mY\u001b[0m\u001b[43m\u001b[37mY\u001b[0m\n",
      "\u001b[47m\u001b[30mW\u001b[0m\u001b[47m\u001b[30mW\u001b[0m\u001b[45m\u001b[37mO\u001b[0m \u001b[47m\u001b[30mW\u001b[0m\u001b[47m\u001b[30mW\u001b[0m\u001b[41m\u001b[37mR\u001b[0m \u001b[43m\u001b[37mY\u001b[0m\u001b[44m\u001b[37mB\u001b[0m\u001b[43m\u001b[37mY\u001b[0m \u001b[45m\u001b[37mO\u001b[0m\u001b[42m\u001b[37mG\u001b[0m\u001b[42m\u001b[37mG\u001b[0m\n",
      "\n",
      "    \u001b[42m\u001b[37mG\u001b[0m\u001b[42m\u001b[37mG\u001b[0m\u001b[42m\u001b[37mG\u001b[0m\n",
      "    \u001b[41m\u001b[37mR\u001b[0m\u001b[41m\u001b[37mR\u001b[0m\u001b[43m\u001b[37mY\u001b[0m\n",
      "    \u001b[41m\u001b[37mR\u001b[0m\u001b[41m\u001b[37mR\u001b[0m\u001b[42m\u001b[37mG\u001b[0m\n",
      "\n"
     ]
    }
   ],
   "source": [
    "# Randomly scrambled\n",
    "scrambe = 4\n",
    "notation2 = rubik.generate_random_sequence(dimCube, scrambe)\n",
    "print('Applying random sequence:', notation2)\n",
    "sampleCube2 = rubik.Cube(dimCube).apply(notation2)\n",
    "print(sampleCube2)"
   ]
  },
  {
   "cell_type": "code",
   "execution_count": 6,
   "metadata": {
    "collapsed": true
   },
   "outputs": [],
   "source": [
    "# Clean\n",
    "del sampleCube1, sampleCube2"
   ]
  },
  {
   "cell_type": "markdown",
   "metadata": {},
   "source": [
    "### STEP 4 : Rubik's Cube Solver"
   ]
  },
  {
   "cell_type": "code",
   "execution_count": 7,
   "metadata": {},
   "outputs": [
    {
     "name": "stdout",
     "output_type": "stream",
     "text": [
      "WARNING:tensorflow:From /anaconda3/lib/python3.6/site-packages/tensorflow/python/framework/op_def_library.py:263: colocate_with (from tensorflow.python.framework.ops) is deprecated and will be removed in a future version.\n",
      "Instructions for updating:\n",
      "Colocations handled automatically by placer.\n",
      "WARNING:tensorflow:From /anaconda3/lib/python3.6/site-packages/tensorflow/python/ops/math_ops.py:3066: to_int32 (from tensorflow.python.ops.math_ops) is deprecated and will be removed in a future version.\n",
      "Instructions for updating:\n",
      "Use tf.cast instead.\n"
     ]
    }
   ],
   "source": [
    "# Import trained model\n",
    "model = keras.models.load_model('../trainedModel/3_25_100_90_80.h5')\n",
    "\n",
    "def get_features_from_cube(cube):\n",
    "  binary_array = keras.utils.to_categorical(cube.to_array(), rubik.NUM_FACES)\n",
    "  return binary_array.flatten()\n",
    "\n",
    "# Defining Heuristic\n",
    "def model_h(cube, problem=None):\n",
    "  features = get_features_from_cube(cube)\n",
    "  return model.predict(np.reshape(features, (1, -1)))[0][0]"
   ]
  },
  {
   "cell_type": "code",
   "execution_count": 8,
   "metadata": {},
   "outputs": [
    {
     "name": "stdout",
     "output_type": "stream",
     "text": [
      "Generated random sequence: [L, U, L, U']\n",
      "Solving...\n",
      "Length 4 solution found:\n",
      "U L' U' L'\n",
      "Expanded 55 nodes.\n"
     ]
    }
   ],
   "source": [
    "scramble = np.random.randint(9)\n",
    "\n",
    "cube3 = rubik.Cube()\n",
    "rand_seq = rubik.generate_random_sequence(3, scramble)\n",
    "print('Generated random sequence:', rand_seq)\n",
    "cube3.apply(rand_seq)\n",
    "print('Solving...')\n",
    "rubik.solve(cube3, model_h, verbose=True);"
   ]
  },
  {
   "cell_type": "code",
   "execution_count": 9,
   "metadata": {
    "collapsed": true
   },
   "outputs": [],
   "source": [
    "# Clean\n",
    "del model, model_h, cube3, rand_seq"
   ]
  },
  {
   "cell_type": "markdown",
   "metadata": {},
   "source": [
    "### STEP 5 : Heuristics Used For Rubik's cube"
   ]
  },
  {
   "cell_type": "markdown",
   "metadata": {},
   "source": [
    "#### 5.1 : Admissible Heuristics\n",
    "\n",
    "*   __`a1`:__  \n",
    "$$ \n",
    "a1(c) = \\max_{f\\in\\text{Faces}(c)}\\#\\text{misplaced-edges}(f) \n",
    "$$\n",
    "Maximum over faces of the number of misplaced edge squares in each face.\n",
    "\n",
    "*   __`a2`:__  \n",
    "$$\n",
    "\\begin{align}\n",
    "a2(c) =& \\max_{f\\in\\text{Faces}(c)}\\#\\text{misplaced-corners}(f) \n",
    "\\end{align}\n",
    "$$\n",
    "Sum of max and min of the number of misplaced edge squares in each face."
   ]
  },
  {
   "cell_type": "code",
   "execution_count": 1,
   "metadata": {
    "collapsed": true
   },
   "outputs": [],
   "source": [
    "def a1(cube, problem=None):\n",
    "    result = {}\n",
    "    for face in rubik.Face:\n",
    "        face_array = cube.get_face(face)\n",
    "        cross = [(0, 1), (1, 0), (1, 2), (2, 1)]\n",
    "        result[face] = sum(face_array[c] != face_array[1, 1] for c in cross)\n",
    "    return max(result.values())\n",
    "  \n",
    "\n",
    "def a2(cube, problem=None):\n",
    "    result = {}\n",
    "    for face in rubik.Face:\n",
    "        face_array = cube.get_face(face)\n",
    "        corners = [(0,0), (0,2), (2,0), (2,2)]\n",
    "        result[face]  = sum(face_array[c] != face_array[add_c(c[0]),c[1]] and face_array[c] != face_array[c[0],add_c(c[1])]  for c in corners)\n",
    "    return max(result.values())\n",
    "\n",
    "\n",
    "def add_cube(i):\n",
    "  if i == 0:\n",
    "    return i+1\n",
    "  elif i == 2:\n",
    "    return i-1\n",
    "  else:\n",
    "    return i\n",
    "  \n"
   ]
  },
  {
   "cell_type": "markdown",
   "metadata": {},
   "source": [
    "#### 5.2 : Inadmissible Heuristics\n",
    "*   __`i1`:__  \n",
    "$$\n",
    "\\bar i1(c) = \\max_{f\\in\\text{Faces}(c)} \\left[\\#\\text{misplaced-edges}(f) + \\#\\text{misplaced-corners}(f) \\right]\n",
    "$$\n",
    "Maximum over faces of the number of misplaced edge squares plus the number of misplaced corner squares in each face.\n",
    "\n",
    "*   __`i2`:__  \n",
    "$$\n",
    "\\begin{align}\n",
    "\\bar i2(c) =& \\max_{f\\in\\text{Faces}(c)}\\left[ \\#\\text{misplaced-edges}(f) + \\#\\text{misplaced-corners}(f) \\right] + \\\\\n",
    "                      & \\min_{f\\in\\text{Faces}(c)}\\left[ \\#\\text{misplaced-edges}(f) + \\#\\text{misplaced-corners}(f) \\right] \n",
    "\\end{align}\n",
    "$$\n",
    "Sum of max and min of the number of misplaced edge squares plus the number of misplaced corner squares in each face.\n",
    "\n",
    "*   __`i3`:__   \n",
    "$$\n",
    "\\bar i3(c) = \\max_{f\\in\\text{Faces}(c)}\\#\\text{misplaced-edges}(f) +  \\max_{f\\in\\text{Faces}(c)} \\#\\text{misplaced-corners}(f)\n",
    "$$\n",
    "Maximum over faces of the number of misplaced edge squares in each face plus maximum over faces of the number of misplaced corner squares in each face\n",
    "\n"
   ]
  },
  {
   "cell_type": "code",
   "execution_count": null,
   "metadata": {
    "collapsed": true
   },
   "outputs": [],
   "source": [
    "def i1(cube, problem=None):\n",
    "    result = {}\n",
    "    for face in rubik.Face:\n",
    "        face_array = cube.get_face(face)\n",
    "        cross = [(0, 1), (1, 0), (1, 2), (2, 1)]\n",
    "        result[face] = sum(face_array[c] != face_array[1, 1] for c in cross)\n",
    "        corners = [(0,0), (0,2), (2,0), (2,2)]\n",
    "        result[face]  += sum(face_array[c] != face_array[add_c(c[0]),c[1]] and face_array[c] != face_array[c[0],add_c(c[1])]  for c in corners)\n",
    "    return max(result.values())\n",
    "\n",
    "def i2(cube, problemtt=None):\n",
    "    result = {}\n",
    "    for face in rubik.Face:\n",
    "        face_array = cube.get_face(face)\n",
    "        cross = [(0, 1), (1, 0), (1, 2), (2, 1)]\n",
    "        result[face] = sum(face_array[c] != face_array[1, 1] for c in cross)\n",
    "        corners = [(0,0), (0,2), (2,0), (2,2)]\n",
    "        result[face]  += sum(face_array[c] != face_array[add_c(c[0]),c[1]] and face_array[c] != face_array[c[0],add_c(c[1])]  for c in corners)\n",
    "    return max(result.values())+min(result.values())    \n",
    "  \n",
    "def i3(cube, problem=None):\n",
    "    result_edges = {}\n",
    "    result_corners = {}\n",
    "    for face in rubik.Face:\n",
    "        face_array = cube.get_face(face)\n",
    "        cross = [(0, 1), (1, 0), (1, 2), (2, 1)]\n",
    "        result_edges[face] = sum(face_array[c] != face_array[1, 1] for c in cross)\n",
    "        corners = [(0,0), (0,2), (2,0), (2,2)]\n",
    "        result_corners[face] = sum(face_array[c] != face_array[add_c(c[0]),c[1]] and face_array[c] != face_array[c[0],add_c(c[1])]  for c in corners)\n",
    "    return max(result_edges.values())+max(result_corners.values())"
   ]
  }
 ],
 "metadata": {
  "kernelspec": {
   "display_name": "Python 3",
   "language": "python",
   "name": "python3"
  },
  "language_info": {
   "codemirror_mode": {
    "name": "ipython",
    "version": 3
   },
   "file_extension": ".py",
   "mimetype": "text/x-python",
   "name": "python",
   "nbconvert_exporter": "python",
   "pygments_lexer": "ipython3",
   "version": "3.6.2"
  }
 },
 "nbformat": 4,
 "nbformat_minor": 2
}
