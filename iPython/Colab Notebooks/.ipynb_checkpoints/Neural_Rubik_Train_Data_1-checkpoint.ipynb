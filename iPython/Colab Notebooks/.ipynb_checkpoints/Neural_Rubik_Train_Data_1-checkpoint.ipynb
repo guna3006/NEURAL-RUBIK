{
 "cells": [
  {
   "cell_type": "markdown",
   "metadata": {
    "colab_type": "text",
    "id": "1HbcwMoAK3OC"
   },
   "source": [
    "# <center> <img src='../../images/fsktm.jpg' width=\"500\" height=\"400\"> </center>\n",
    "# <center> WQD7002 - SCIENCE DATA RESEARCH PROJECT </center>\n",
    "## <center> NEURAL RUBIK’S </center>\n",
    "## <center> Solving Rubik's Cube Using Nueral Network (Hueristic Learning) </center>\n",
    "### <center> Scripted by : Gunasegarran Magadevan (WQD170002) </center>\n",
    "### <center> Supervised by : Dr.Aznul Qalid Md Sabri </center>\n",
    "# <center> <img src=\"../../images/RubiksNeural.jpg\" width=\"500\" height=\"600\"> </center>\n",
    "----\n",
    "\n"
   ]
  },
  {
   "cell_type": "markdown",
   "metadata": {
    "colab_type": "text",
    "id": "p6nffoGtK3OD"
   },
   "source": [
    "### STEP 1 : Installing and upgrading the package"
   ]
  },
  {
   "cell_type": "code",
   "execution_count": 1,
   "metadata": {
    "colab": {
     "base_uri": "https://localhost:8080/",
     "height": 97
    },
    "colab_type": "code",
    "executionInfo": {
     "elapsed": 24649,
     "status": "ok",
     "timestamp": 1556763715620,
     "user": {
      "displayName": "Gunasegarran Magadevan",
      "photoUrl": "https://lh6.googleusercontent.com/-MbOdY-Y6KeU/AAAAAAAAAAI/AAAAAAAAAr0/aVltPfbFr5U/s64/photo.jpg",
      "userId": "14938348637033574038"
     },
     "user_tz": -480
    },
    "id": "7uK4guNFK3OE",
    "outputId": "abae9ca1-06b4-4bdc-d52b-96b62274b742"
   },
   "outputs": [
    {
     "name": "stdout",
     "output_type": "stream",
     "text": [
      "\u001b[K     |████████████████████████████████| 61kB 2.9MB/s \n",
      "\u001b[K     |████████████████████████████████| 993kB 3.4MB/s \n",
      "\u001b[?25h  Building wheel for PyDrive (setup.py) ... \u001b[?25l\u001b[?25hdone\n"
     ]
    }
   ],
   "source": [
    "# Upgrading the pip package to the latest version\n",
    "!python -m pip install PyHamcrest --upgrade --quiet\n",
    "!python -m pip install tensorflow --upgrade --quiet\n",
    "!python -m pip install rubikai --no-cache-dir --upgrade --quiet\n",
    "!python -m pip install seaborn --no-cache-dir --upgrade --quiet\n",
    "!python -m pip install keras --upgrade --quiet\n",
    "!python -m pip install numpy --upgrade --quiet\n",
    "!pip install -U -q PyDrive\n",
    "\n",
    "# Tensorflow package manually through terminal or cmd - https://anaconda.org/conda-forge\n",
    "#conda install -c conda-forge tensorflow\n",
    "#conda install -c conda-forge numpy"
   ]
  },
  {
   "cell_type": "markdown",
   "metadata": {
    "colab_type": "text",
    "id": "q_15z_mbK3OL"
   },
   "source": [
    "### STEP 2 : Importing the package"
   ]
  },
  {
   "cell_type": "code",
   "execution_count": 2,
   "metadata": {
    "colab": {
     "base_uri": "https://localhost:8080/",
     "height": 34
    },
    "colab_type": "code",
    "executionInfo": {
     "elapsed": 25844,
     "status": "ok",
     "timestamp": 1556763716836,
     "user": {
      "displayName": "Gunasegarran Magadevan",
      "photoUrl": "https://lh6.googleusercontent.com/-MbOdY-Y6KeU/AAAAAAAAAAI/AAAAAAAAAr0/aVltPfbFr5U/s64/photo.jpg",
      "userId": "14938348637033574038"
     },
     "user_tz": -480
    },
    "id": "OShbu8YjK3OM",
    "outputId": "7b65b9b9-abc1-451a-818f-f39000692f23"
   },
   "outputs": [
    {
     "name": "stderr",
     "output_type": "stream",
     "text": [
      "Using TensorFlow backend.\n"
     ]
    }
   ],
   "source": [
    "import rubikai as rubik\n",
    "import numpy as np\n",
    "import pandas as pd\n",
    "import seaborn as sns\n",
    "import keras\n",
    "import google.colab.files\n",
    "import matplotlib.pyplot as plt"
   ]
  },
  {
   "cell_type": "markdown",
   "metadata": {
    "colab_type": "text",
    "id": "hdZBBw3iK3OS"
   },
   "source": [
    "### STEP 3 : Import/Export Using Google Drive"
   ]
  },
  {
   "cell_type": "code",
   "execution_count": 0,
   "metadata": {
    "colab": {},
    "colab_type": "code",
    "id": "5zh8X98RQUbw"
   },
   "outputs": [],
   "source": [
    "from pydrive.auth import GoogleAuth\n",
    "from pydrive.drive import GoogleDrive\n",
    "from google.colab import auth\n",
    "from oauth2client.client import GoogleCredentials\n",
    "\n",
    "auth.authenticate_user()\n",
    "gauth = GoogleAuth()\n",
    "gauth.credentials = GoogleCredentials.get_application_default()\n",
    "drive = GoogleDrive(gauth)"
   ]
  },
  {
   "cell_type": "code",
   "execution_count": 0,
   "metadata": {
    "colab": {},
    "colab_type": "code",
    "id": "v3GIY3i9j8tX"
   },
   "outputs": [],
   "source": [
    "def refresh_gdrive_token():\n",
    "  global auth\n",
    "  global drive\n",
    "  global gauth\n",
    "  auth.authenticate_user()\n",
    "  gauth = GoogleAuth()\n",
    "  gauth.credentials = GoogleCredentials.get_application_default()\n",
    "  drive = GoogleDrive(gauth)"
   ]
  },
  {
   "cell_type": "code",
   "execution_count": 0,
   "metadata": {
    "colab": {},
    "colab_type": "code",
    "id": "swma4dxb_oN-"
   },
   "outputs": [],
   "source": [
    "SAVE_TO_DRIVE = False\n",
    "\n",
    "def upload_file_to_drive(local_filename, remote_filename=None):\n",
    "  refresh_gdrive_token()\n",
    "  if remote_filename is None:\n",
    "    remote_filename = 'drive_' + local_filename\n",
    "  uploaded = drive.CreateFile({'title': remote_filename})\n",
    "  uploaded.SetContentFile(local_filename)\n",
    "  uploaded.Upload()\n",
    "  return\n",
    "\n",
    "\n",
    "def download_model_from_drive(remote_filename, local_filename=None):\n",
    "  refresh_gdrive_token()\n",
    "  if local_filename is None:\n",
    "    local_filename = 'local_' + remote_filename\n",
    "  file_list = drive.ListFile(\n",
    "      {'q': \"title = '{}'\".format(remote_filename)}).GetList()\n",
    "  if file_list:\n",
    "    file_list[0].GetContentFile(local_filename)\n",
    "    model = keras.models.load_model(local_filename)\n",
    "    return model\n",
    "  else:\n",
    "    print('file not found in drive')"
   ]
  },
  {
   "cell_type": "code",
   "execution_count": 0,
   "metadata": {
    "colab": {},
    "colab_type": "code",
    "id": "gotiaTw8Zwcj"
   },
   "outputs": [],
   "source": [
    "# save/load model functions\n",
    "def save_model(model, filename):\n",
    "  global SAVE_TO_DRIVE\n",
    "  if SAVE_TO_DRIVE is True:\n",
    "    model.save(filename)\n",
    "    upload_file_to_drive(filename, filename)\n",
    "    return\n",
    "\n",
    "\n",
    "def load_model(filename):\n",
    "  return download_model_from_drive(filename, filename)"
   ]
  },
  {
   "cell_type": "markdown",
   "metadata": {
    "colab_type": "text",
    "id": "NPRAYU1IuJwF"
   },
   "source": [
    "### STEP 4 : Helper Functions"
   ]
  },
  {
   "cell_type": "markdown",
   "metadata": {
    "colab_type": "text",
    "id": "gPSskq2p6zqV"
   },
   "source": [
    "Below are functions related to probability vectors. \n",
    "* `create_prob_vector` generates the \"real\" distribution of cube configurations\n",
    "* `convex_combination` returns a convex combination of two vectors\n",
    "* `convex_combination_probabilities` returns a convex combination of the real distribution and the uniform one"
   ]
  },
  {
   "cell_type": "code",
   "execution_count": 0,
   "metadata": {
    "colab": {},
    "colab_type": "code",
    "id": "pXvei0SWr9rc"
   },
   "outputs": [],
   "source": [
    "# Number of states in each distance from goal (taken from http://cube20.org/qtm/)\n",
    "count_vector = np.array([1, 12, 114, 1068, 10011, 93840, 878880, 8221632,\n",
    "                         76843595, 717789576, 6701836858, 62549615248,\n",
    "                         583570100997, 5442351625028, 50729620202582,\n",
    "                         472495678811004, 4393570406220123, 40648181519827392,\n",
    "                         368071526203620348, 3e18, 14e18, 19e18, 7e18, 24e15,\n",
    "                         150000, 36, 3])\n",
    "\n",
    "def create_prob_vector(lower, upper):\n",
    "  vec = count_vector[lower:upper]\n",
    "  return vec / np.sum(vec)\n",
    "\n",
    "\n",
    "def convex_combination(v , u, alpha):\n",
    "  \"\"\" return covex combination of u, v i.e v*alpha + u*(1- alpha) \"\"\"\n",
    "  assert len(u) == len(v), 'u ,v must have same length'\n",
    "  assert 0 <= alpha <= 1, 'alpha must be between 0 and 1'\n",
    "  return np.array(v)*alpha + np.array(u)*(1-alpha)\n",
    "\n",
    "def convex_combination_probabilities(alpha, lower, upper):\n",
    "  \"\"\" \n",
    "  returns convex combination of real probability and uniform distribution\n",
    "  real_probabilites*alpha + uniform*(1- alpha)\n",
    "  \"\"\"\n",
    "  rel_prob = create_prob_vector(lower, upper)\n",
    "  n = len(rel_prob)\n",
    "  uniform = np.ones(n) / n\n",
    "  return convex_combination(rel_prob, uniform, alpha)"
   ]
  },
  {
   "cell_type": "markdown",
   "metadata": {
    "colab_type": "text",
    "id": "TQCZ4MTz_cFe"
   },
   "source": [
    "### STEP 5 :  Functions for Learning"
   ]
  },
  {
   "cell_type": "code",
   "execution_count": 0,
   "metadata": {
    "colab": {},
    "colab_type": "code",
    "id": "u0fLmKLPtUbQ"
   },
   "outputs": [],
   "source": [
    "def get_features_from_cube(cube):\n",
    "  \"\"\" transforms the cube's array to 1d binary array \"\"\"\n",
    "  binary_array = keras.utils.to_categorical(cube.to_array(), rubik.NUM_FACES)\n",
    "  return binary_array.flatten()\n",
    "\n",
    " \n",
    "def data_generator(cube_layers, max_d, batch_size, p=None):\n",
    "  \"\"\"\n",
    "  generates batches of scrambled cubes data, coupled with the number\n",
    "  of scramble moves per row\n",
    "  \"\"\"\n",
    "  new_dim = len(get_features_from_cube(rubik.Cube(cube_layers)))\n",
    "  while True:\n",
    "    data = np.empty((batch_size, new_dim), dtype=np.int8)\n",
    "    labels = np.empty(batch_size, dtype=np.int8)\n",
    "    for i in range(batch_size):\n",
    "      c = rubik.Cube(cube_layers)\n",
    "      d = np.random.choice(np.arange(max_d+1), p=p)\n",
    "      rand_seq = rubik.generate_random_sequence(cube_layers, d)\n",
    "      c.apply(rand_seq)\n",
    "      data[i, :] = get_features_from_cube(c)\n",
    "      labels[i] = d\n",
    "    yield data, labels  \n",
    "\n",
    "\n",
    "def create_dnnregressor(cube_layers, hidden_units, dropout=None,\n",
    "                        optimizer='adagrad', loss='mse'):\n",
    "  \"\"\"\n",
    "  creates a fully connected multi-layer perceptron with non-linear activations\n",
    "  to perform regression.\n",
    "  \n",
    "  :param cube_layers: the number of cube layers this model should operate on\n",
    "  :param hidden_units: list of integers specifying how many hidden neurons\n",
    "                       are in each layer\n",
    "  :param dropout: if None, no dropout is used. if a single integer, uses this\n",
    "                  dropout rate after each layer. otherwise, should be a list of\n",
    "                  integers the same length as hidden_units specifying dropout \n",
    "                  rate after each layer\n",
    "  :param optimizer: which (keras) optimizer to use\n",
    "  :param loss: which (keras) loss to use\n",
    "  :returns: a compiled keras.Sequential model\n",
    "  \"\"\"\n",
    "  # input checks\n",
    "  assert hasattr(hidden_units, '__len__'), 'hidden_units must be array-like'\n",
    "  assert len(hidden_units) > 0, 'hidden_units cannot be empty'\n",
    "  if dropout is not None:\n",
    "    if not hasattr(dropout, '__len__'):\n",
    "      dropout = [dropout] * len(hidden_units)\n",
    "    else:\n",
    "      assert len(hidden_units) == len(dropout)\n",
    "  # define some constant model parameters\n",
    "  activation = 'relu'\n",
    "  out_activation = 'relu'\n",
    "  input_dim = len(get_features_from_cube(rubik.Cube(cube_layers)))\n",
    "  \n",
    "  # create a sequential model and add the first layer\n",
    "  model = keras.Sequential()\n",
    "  model.add(keras.layers.Dense(hidden_units[0],\n",
    "                               input_dim=input_dim,\n",
    "                               activation=activation))\n",
    "  if dropout is not None:\n",
    "    model.add(keras.layers.Dropout(dropout[0]))\n",
    "    \n",
    "  # add the rest of the hidden layers\n",
    "  for i in range(1, len(hidden_units)):\n",
    "    model.add(keras.layers.Dense(hidden_units[i], activation=activation))\n",
    "    if dropout is not None:\n",
    "      model.add(keras.layers.Dropout(dropout[i]))\n",
    "\n",
    "  # define the output layer\n",
    "  model.add(keras.layers.Dense(1, activation=out_activation))\n",
    "  model.compile(optimizer=optimizer, loss=loss)\n",
    "  return model\n",
    "\n",
    "\n",
    "def learn_heuristic(layers, max_d, p, steps, epochs, batch_size, hidden_units,\n",
    "                    dropout=None, optimizer='adagrad', loss='mse'):\n",
    "  \"\"\"\n",
    "  trains a model with the given config.\n",
    "  \n",
    "  :param layers: number of cube layers\n",
    "  :param max_d: maximum number of scramble steps\n",
    "  :param p: a probability distribution according to which the\n",
    "            scramble steps number is chosen (array of length max_d+1)\n",
    "            (for uniform dist. use None)\n",
    "  :param steps: number of training steps per epoch\n",
    "  :param epochs: number of epochs\n",
    "  :param batch_size: number of cube instances in each training step\n",
    "  :param hidden_units: number of dnn layers and neurons in each layer\n",
    "                       (an array of integers)\n",
    "  :param dropout: same as in create_dnnregressor\n",
    "  :param optimizer: same as in create_dnnregressor\n",
    "  :param loss: same as in create_dnnregressor\n",
    "  :returns: a pair (estimator, history), where estimator is a (trained)\n",
    "            keras model, and history is the training Keras history object\n",
    "  \"\"\"\n",
    "  # set up parameters\n",
    "  c = rubik.Cube(layers)\n",
    "  # initialize the model\n",
    "  estimator = create_dnnregressor(\n",
    "      cube_layers=layers,\n",
    "      hidden_units=hidden_units,\n",
    "      dropout=dropout,\n",
    "      optimizer=optimizer,\n",
    "      loss=loss\n",
    "  )\n",
    "  # train the model\n",
    "  history = estimator.fit_generator(\n",
    "      data_generator(layers, max_d, batch_size, p), steps, epochs\n",
    "  )\n",
    "  return estimator, history\n",
    "\n",
    "\n",
    "def model_to_heuristic(model):\n",
    "  \"\"\" creates a heuristic based on the given keras model \"\"\"\n",
    "  \n",
    "  def _model_h(cube, problem=None):\n",
    "    features = get_features_from_cube(cube)\n",
    "    return model.predict(np.reshape(features, (1, -1)))[0][0]\n",
    "  \n",
    "  return _model_h"
   ]
  },
  {
   "cell_type": "markdown",
   "metadata": {
    "colab_type": "text",
    "id": "oi5RHq-eyWcm"
   },
   "source": [
    "### STEP 6 :  Functions for Training\n",
    "\n",
    "## $3\\times3\\times3$\n",
    "We try different network architectures and see which one performs best.\n",
    "\n",
    "The heuristics are then save in the following format:\n",
    "\n",
    "`<layers>_<max_d>_<hidden_1>_..._<hidden_k>.h5`\n",
    "\n",
    "where `hidden_i` is the number of neurons in the `i`'th hidden layer, and `layers` is the number of layers in the cube, and `max_d` is the maximal number of scramble moves.\n",
    "\n",
    "For example, a $3\\times 3 \\times 3$ model with 3 layers of 50 neurons each, and `max_d=8` is saved as: \n",
    "\"`3_8_50_50_50.h5`\"."
   ]
  },
  {
   "cell_type": "code",
   "execution_count": 0,
   "metadata": {
    "colab": {},
    "colab_type": "code",
    "id": "cE3Kl1ODI3KU"
   },
   "outputs": [],
   "source": [
    "def get_model_filename(layers, max_d, hidden_units):\n",
    "  delim = '_'\n",
    "  suffix = '.h5'\n",
    "  return delim.join([str(layers), str(max_d)] + \n",
    "                    [str(h) for h in hidden_units]) + suffix"
   ]
  },
  {
   "cell_type": "markdown",
   "metadata": {
    "colab_type": "text",
    "id": "HV_K9kv1AYkG"
   },
   "source": [
    "#### $Definations$\n",
    "* `max_d` (maximal number of scramble moves)\n",
    "* `p` (distribution for the number of moves): $0.1 \\cdot \\vec \\rho + 0.9 \\cdot \\vec u$, where $\\vec \\rho$ is the real distribution of cube configurations, and $\\vec u$ is the unfirom distribution\n",
    "* `steps` (training steps per epoch)\n",
    "* `epochs` (number of epochs)\n",
    "* `batch_size` (number of examples per training step)\n"
   ]
  },
  {
   "cell_type": "code",
   "execution_count": 0,
   "metadata": {
    "colab": {},
    "colab_type": "code",
    "id": "q-u9iYE7FDz9"
   },
   "outputs": [],
   "source": [
    "layers = 3\n",
    "max_d = 25\n",
    "p = convex_combination_probabilities(0.1, 0, max_d+1)\n",
    "steps = 25\n",
    "epochs = 50\n",
    "batch_size = 8\n",
    "dropout = None"
   ]
  },
  {
   "cell_type": "markdown",
   "metadata": {
    "colab_type": "text",
    "id": "FAonOSAtyPJn"
   },
   "source": [
    "### $\\hat h_1$\n",
    "* `max_d`: `25`\n",
    "* `p`: $0.1 \\cdot \\vec \\rho + 0.9 \\cdot \\vec u$\n",
    "* `steps`: `25`\n",
    "* `epochs`: `50`\n",
    "* `batch_size`: `8`\n",
    "* Net architecture: \n",
    "  *  3 hidden layers with 70, 60, 50 neurons\n",
    "  * default ReLU activations\n",
    "  * No edge dropout"
   ]
  },
  {
   "cell_type": "code",
   "execution_count": 11,
   "metadata": {
    "colab": {
     "base_uri": "https://localhost:8080/",
     "height": 1839
    },
    "colab_type": "code",
    "executionInfo": {
     "elapsed": 1024125,
     "status": "ok",
     "timestamp": 1556764715138,
     "user": {
      "displayName": "Gunasegarran Magadevan",
      "photoUrl": "https://lh6.googleusercontent.com/-MbOdY-Y6KeU/AAAAAAAAAAI/AAAAAAAAAr0/aVltPfbFr5U/s64/photo.jpg",
      "userId": "14938348637033574038"
     },
     "user_tz": -480
    },
    "id": "ec0kHJF3Aif2",
    "outputId": "108f05de-1d7d-4cde-d062-359014a059f4"
   },
   "outputs": [
    {
     "name": "stdout",
     "output_type": "stream",
     "text": [
      "WARNING:tensorflow:From /usr/local/lib/python3.6/dist-packages/tensorflow/python/framework/op_def_library.py:263: colocate_with (from tensorflow.python.framework.ops) is deprecated and will be removed in a future version.\n",
      "Instructions for updating:\n",
      "Colocations handled automatically by placer.\n",
      "WARNING:tensorflow:From /usr/local/lib/python3.6/dist-packages/tensorflow/python/ops/math_ops.py:3066: to_int32 (from tensorflow.python.ops.math_ops) is deprecated and will be removed in a future version.\n",
      "Instructions for updating:\n",
      "Use tf.cast instead.\n",
      "Epoch 1/50\n",
      "25/25 [==============================] - 19s 764ms/step - loss: 68.6945\n",
      "Epoch 2/50\n",
      "25/25 [==============================] - 21s 844ms/step - loss: 28.5614\n",
      "Epoch 3/50\n",
      "25/25 [==============================] - 19s 750ms/step - loss: 27.9285\n",
      "Epoch 4/50\n",
      "25/25 [==============================] - 19s 777ms/step - loss: 30.8158\n",
      "Epoch 5/50\n",
      "25/25 [==============================] - 18s 718ms/step - loss: 25.2992\n",
      "Epoch 6/50\n",
      "25/25 [==============================] - 21s 820ms/step - loss: 25.9230\n",
      "Epoch 7/50\n",
      "25/25 [==============================] - 20s 781ms/step - loss: 26.4804\n",
      "Epoch 8/50\n",
      "25/25 [==============================] - 19s 764ms/step - loss: 23.2775\n",
      "Epoch 9/50\n",
      "25/25 [==============================] - 20s 785ms/step - loss: 23.9613\n",
      "Epoch 10/50\n",
      "25/25 [==============================] - 21s 852ms/step - loss: 25.2976\n",
      "Epoch 11/50\n",
      "25/25 [==============================] - 19s 775ms/step - loss: 25.5320\n",
      "Epoch 12/50\n",
      "25/25 [==============================] - 19s 775ms/step - loss: 25.8068\n",
      "Epoch 13/50\n",
      "25/25 [==============================] - 19s 756ms/step - loss: 23.5503\n",
      "Epoch 14/50\n",
      "25/25 [==============================] - 20s 819ms/step - loss: 23.7554\n",
      "Epoch 15/50\n",
      "25/25 [==============================] - 21s 832ms/step - loss: 22.5546\n",
      "Epoch 16/50\n",
      "25/25 [==============================] - 18s 736ms/step - loss: 26.6601\n",
      "Epoch 17/50\n",
      "25/25 [==============================] - 21s 836ms/step - loss: 27.1307\n",
      "Epoch 18/50\n",
      "25/25 [==============================] - 20s 811ms/step - loss: 22.6530\n",
      "Epoch 19/50\n",
      "25/25 [==============================] - 20s 808ms/step - loss: 23.2286\n",
      "Epoch 20/50\n",
      "25/25 [==============================] - 19s 746ms/step - loss: 26.5660\n",
      "Epoch 21/50\n",
      "25/25 [==============================] - 19s 776ms/step - loss: 24.0390\n",
      "Epoch 22/50\n",
      "25/25 [==============================] - 19s 748ms/step - loss: 24.7565\n",
      "Epoch 23/50\n",
      "25/25 [==============================] - 18s 729ms/step - loss: 18.7812\n",
      "Epoch 24/50\n",
      "25/25 [==============================] - 19s 749ms/step - loss: 23.2532\n",
      "Epoch 25/50\n",
      "25/25 [==============================] - 18s 733ms/step - loss: 25.3451\n",
      "Epoch 26/50\n",
      "25/25 [==============================] - 18s 730ms/step - loss: 22.4067\n",
      "Epoch 27/50\n",
      "25/25 [==============================] - 20s 805ms/step - loss: 28.1466\n",
      "Epoch 28/50\n",
      "25/25 [==============================] - 19s 766ms/step - loss: 25.5790\n",
      "Epoch 29/50\n",
      "25/25 [==============================] - 19s 740ms/step - loss: 26.3889\n",
      "Epoch 30/50\n",
      "25/25 [==============================] - 19s 759ms/step - loss: 18.7706\n",
      "Epoch 31/50\n",
      "25/25 [==============================] - 20s 807ms/step - loss: 22.0836\n",
      "Epoch 32/50\n",
      "25/25 [==============================] - 20s 816ms/step - loss: 21.3965\n",
      "Epoch 33/50\n",
      "25/25 [==============================] - 20s 806ms/step - loss: 22.1186\n",
      "Epoch 34/50\n",
      "25/25 [==============================] - 19s 742ms/step - loss: 22.6366\n",
      "Epoch 35/50\n",
      "25/25 [==============================] - 21s 823ms/step - loss: 24.2947\n",
      "Epoch 36/50\n",
      "25/25 [==============================] - 20s 792ms/step - loss: 19.5779\n",
      "Epoch 37/50\n",
      "25/25 [==============================] - 19s 767ms/step - loss: 23.0374\n",
      "Epoch 38/50\n",
      "25/25 [==============================] - 18s 735ms/step - loss: 21.9973\n",
      "Epoch 39/50\n",
      "25/25 [==============================] - 21s 857ms/step - loss: 23.2858\n",
      "Epoch 40/50\n",
      "25/25 [==============================] - 20s 785ms/step - loss: 24.3950\n",
      "Epoch 41/50\n",
      "25/25 [==============================] - 20s 788ms/step - loss: 23.4067\n",
      "Epoch 42/50\n",
      "25/25 [==============================] - 20s 801ms/step - loss: 29.0890\n",
      "Epoch 43/50\n",
      "25/25 [==============================] - 21s 831ms/step - loss: 22.9696\n",
      "Epoch 44/50\n",
      "25/25 [==============================] - 18s 727ms/step - loss: 19.8875\n",
      "Epoch 45/50\n",
      "25/25 [==============================] - 19s 751ms/step - loss: 27.6008\n",
      "Epoch 46/50\n",
      "25/25 [==============================] - 19s 762ms/step - loss: 26.5111\n",
      "Epoch 47/50\n",
      "25/25 [==============================] - 20s 804ms/step - loss: 21.3175\n",
      "Epoch 48/50\n",
      "25/25 [==============================] - 18s 739ms/step - loss: 20.0135\n",
      "Epoch 49/50\n",
      "25/25 [==============================] - 20s 807ms/step - loss: 28.4405\n",
      "Epoch 50/50\n",
      "25/25 [==============================] - 19s 762ms/step - loss: 24.8965\n"
     ]
    }
   ],
   "source": [
    "hidden_units_1 = [70, 60, 50]\n",
    "m1, history1 = learn_heuristic(layers, max_d, p, steps, epochs,\n",
    "                               batch_size, hidden_units_1, dropout)\n",
    "save_model(m1, get_model_filename(layers, max_d, hidden_units_1))"
   ]
  },
  {
   "cell_type": "markdown",
   "metadata": {
    "colab_type": "text",
    "id": "8Pi4N14Z91SE"
   },
   "source": [
    "### $\\hat h_2$\n",
    "* `max_d`: `25`\n",
    "* `p`: $0.1 \\cdot \\vec \\rho + 0.9 \\cdot \\vec u$ \n",
    "* `steps`: `25`\n",
    "* `epochs`: `50`\n",
    "* `batch_size`: `8`\n",
    "* Net architecture: \n",
    "  *  4 hidden layers, 50 neurons per layer\n",
    "  * default ReLU activations\n",
    "  * No edge dropout"
   ]
  },
  {
   "cell_type": "code",
   "execution_count": 12,
   "metadata": {
    "colab": {
     "base_uri": "https://localhost:8080/"
    },
    "colab_type": "code",
    "executionInfo": {
     "elapsed": 2005823,
     "status": "ok",
     "timestamp": 1556765696845,
     "user": {
      "displayName": "Gunasegarran Magadevan",
      "photoUrl": "https://lh6.googleusercontent.com/-MbOdY-Y6KeU/AAAAAAAAAAI/AAAAAAAAAr0/aVltPfbFr5U/s64/photo.jpg",
      "userId": "14938348637033574038"
     },
     "user_tz": -480
    },
    "id": "Pja05ir-GAhI",
    "outputId": "e2b8dfca-e632-4be2-a11a-99cc4604cf96"
   },
   "outputs": [
    {
     "name": "stdout",
     "output_type": "stream",
     "text": [
      "Epoch 1/50\n",
      "25/25 [==============================] - 19s 762ms/step - loss: 61.0080\n",
      "Epoch 2/50\n",
      "25/25 [==============================] - 20s 804ms/step - loss: 31.3690\n",
      "Epoch 3/50\n",
      "25/25 [==============================] - 19s 769ms/step - loss: 31.9688\n",
      "Epoch 4/50\n",
      "25/25 [==============================] - 20s 796ms/step - loss: 25.9930\n",
      "Epoch 5/50\n",
      "25/25 [==============================] - 20s 797ms/step - loss: 27.6971\n",
      "Epoch 6/50\n",
      "25/25 [==============================] - 20s 807ms/step - loss: 26.7814\n",
      "Epoch 7/50\n",
      "25/25 [==============================] - 20s 790ms/step - loss: 28.1891\n",
      "Epoch 8/50\n",
      "25/25 [==============================] - 21s 821ms/step - loss: 24.4861\n",
      "Epoch 9/50\n",
      "25/25 [==============================] - 20s 782ms/step - loss: 25.6607\n",
      "Epoch 10/50\n",
      "25/25 [==============================] - 21s 830ms/step - loss: 28.9187\n",
      "Epoch 11/50\n",
      "25/25 [==============================] - 20s 782ms/step - loss: 27.0117\n",
      "Epoch 12/50\n",
      "25/25 [==============================] - 19s 750ms/step - loss: 25.7552\n",
      "Epoch 13/50\n",
      "25/25 [==============================] - 22s 871ms/step - loss: 25.2838\n",
      "Epoch 14/50\n",
      "25/25 [==============================] - 21s 841ms/step - loss: 23.0889\n",
      "Epoch 15/50\n",
      "25/25 [==============================] - 19s 774ms/step - loss: 26.3607\n",
      "Epoch 16/50\n",
      "25/25 [==============================] - 20s 786ms/step - loss: 23.5982\n",
      "Epoch 17/50\n",
      "25/25 [==============================] - 19s 741ms/step - loss: 22.1964\n",
      "Epoch 18/50\n",
      "25/25 [==============================] - 22s 883ms/step - loss: 27.2767\n",
      "Epoch 19/50\n",
      "25/25 [==============================] - 19s 744ms/step - loss: 23.5188\n",
      "Epoch 20/50\n",
      "25/25 [==============================] - 17s 693ms/step - loss: 21.2974\n",
      "Epoch 21/50\n",
      "25/25 [==============================] - 17s 693ms/step - loss: 22.7880\n",
      "Epoch 22/50\n",
      "25/25 [==============================] - 21s 827ms/step - loss: 24.6044\n",
      "Epoch 23/50\n",
      "25/25 [==============================] - 19s 767ms/step - loss: 23.9076\n",
      "Epoch 24/50\n",
      "25/25 [==============================] - 19s 756ms/step - loss: 24.2022\n",
      "Epoch 25/50\n",
      "25/25 [==============================] - 19s 769ms/step - loss: 24.6459\n",
      "Epoch 26/50\n",
      "25/25 [==============================] - 20s 804ms/step - loss: 26.5672\n",
      "Epoch 27/50\n",
      "25/25 [==============================] - 18s 733ms/step - loss: 23.5488\n",
      "Epoch 28/50\n",
      "25/25 [==============================] - 18s 740ms/step - loss: 25.4577\n",
      "Epoch 29/50\n",
      "25/25 [==============================] - 21s 820ms/step - loss: 23.6725\n",
      "Epoch 30/50\n",
      "25/25 [==============================] - 22s 870ms/step - loss: 23.4830\n",
      "Epoch 31/50\n",
      "25/25 [==============================] - 19s 762ms/step - loss: 23.4800\n",
      "Epoch 32/50\n",
      "25/25 [==============================] - 20s 789ms/step - loss: 21.7338\n",
      "Epoch 33/50\n",
      "25/25 [==============================] - 18s 711ms/step - loss: 23.9755\n",
      "Epoch 34/50\n",
      "25/25 [==============================] - 22s 870ms/step - loss: 23.2714\n",
      "Epoch 35/50\n",
      "25/25 [==============================] - 20s 816ms/step - loss: 26.4638\n",
      "Epoch 36/50\n",
      "25/25 [==============================] - 19s 758ms/step - loss: 23.4889\n",
      "Epoch 37/50\n",
      "25/25 [==============================] - 18s 714ms/step - loss: 25.1709\n",
      "Epoch 38/50\n",
      "25/25 [==============================] - 21s 832ms/step - loss: 21.4334\n",
      "Epoch 39/50\n",
      "25/25 [==============================] - 20s 806ms/step - loss: 22.5964\n",
      "Epoch 40/50\n",
      "25/25 [==============================] - 18s 734ms/step - loss: 24.2592\n",
      "Epoch 41/50\n",
      "25/25 [==============================] - 19s 754ms/step - loss: 25.8393\n",
      "Epoch 42/50\n",
      "25/25 [==============================] - 20s 795ms/step - loss: 23.0613\n",
      "Epoch 43/50\n",
      "25/25 [==============================] - 19s 770ms/step - loss: 22.5019\n",
      "Epoch 44/50\n",
      "25/25 [==============================] - 19s 758ms/step - loss: 25.7304\n",
      "Epoch 45/50\n",
      "25/25 [==============================] - 21s 833ms/step - loss: 25.1360\n",
      "Epoch 46/50\n",
      "25/25 [==============================] - 21s 820ms/step - loss: 23.7735\n",
      "Epoch 47/50\n",
      "25/25 [==============================] - 19s 779ms/step - loss: 24.0968\n",
      "Epoch 48/50\n",
      "25/25 [==============================] - 19s 758ms/step - loss: 26.8174\n",
      "Epoch 49/50\n",
      "25/25 [==============================] - 20s 805ms/step - loss: 23.6423\n",
      "Epoch 50/50\n",
      "25/25 [==============================] - 18s 725ms/step - loss: 23.1062\n"
     ]
    }
   ],
   "source": [
    "hidden_units_2 = [50, 50, 50, 50]\n",
    "m2, history2 = learn_heuristic(layers, max_d, p, steps, epochs,\n",
    "                               batch_size, hidden_units_2, dropout)\n",
    "save_model(m2, get_model_filename(layers, max_d, hidden_units_2))"
   ]
  },
  {
   "cell_type": "markdown",
   "metadata": {
    "colab_type": "text",
    "id": "i2AyPlrIBXOI"
   },
   "source": [
    "### $\\hat h_3$\n",
    "* `max_d`: `25`\n",
    "* `p`: $0.1 \\cdot \\vec \\rho + 0.9 \\cdot \\vec u$ \n",
    "* `steps`: `25`\n",
    "* `epochs`: `50`\n",
    "* `batch_size`: `8`\n",
    "* Net architecture: \n",
    "  *  5 hidden layers with 50, 40, 30, 20, 20 neurons\n",
    "  * default ReLU activations\n",
    "  * No edge dropout"
   ]
  },
  {
   "cell_type": "code",
   "execution_count": 13,
   "metadata": {
    "colab": {
     "base_uri": "https://localhost:8080/",
     "height": 1717
    },
    "colab_type": "code",
    "executionInfo": {
     "elapsed": 2979160,
     "status": "ok",
     "timestamp": 1556766670191,
     "user": {
      "displayName": "Gunasegarran Magadevan",
      "photoUrl": "https://lh6.googleusercontent.com/-MbOdY-Y6KeU/AAAAAAAAAAI/AAAAAAAAAr0/aVltPfbFr5U/s64/photo.jpg",
      "userId": "14938348637033574038"
     },
     "user_tz": -480
    },
    "id": "E4-bTmMcea2Z",
    "outputId": "6389f659-3755-49d3-b0e1-de86eca1aa45"
   },
   "outputs": [
    {
     "name": "stdout",
     "output_type": "stream",
     "text": [
      "Epoch 1/50\n",
      "25/25 [==============================] - 20s 781ms/step - loss: 61.0151\n",
      "Epoch 2/50\n",
      "25/25 [==============================] - 18s 720ms/step - loss: 29.1080\n",
      "Epoch 3/50\n",
      "25/25 [==============================] - 20s 791ms/step - loss: 27.1538\n",
      "Epoch 4/50\n",
      "25/25 [==============================] - 18s 737ms/step - loss: 25.4819\n",
      "Epoch 5/50\n",
      "25/25 [==============================] - 19s 768ms/step - loss: 26.0426\n",
      "Epoch 6/50\n",
      "25/25 [==============================] - 17s 697ms/step - loss: 27.3356\n",
      "Epoch 7/50\n",
      "25/25 [==============================] - 17s 694ms/step - loss: 28.2580\n",
      "Epoch 8/50\n",
      "25/25 [==============================] - 19s 751ms/step - loss: 26.8653\n",
      "Epoch 9/50\n",
      "25/25 [==============================] - 18s 735ms/step - loss: 25.8715\n",
      "Epoch 10/50\n",
      "25/25 [==============================] - 21s 825ms/step - loss: 25.9203\n",
      "Epoch 11/50\n",
      "25/25 [==============================] - 19s 779ms/step - loss: 24.4917\n",
      "Epoch 12/50\n",
      "25/25 [==============================] - 18s 731ms/step - loss: 24.3200\n",
      "Epoch 13/50\n",
      "25/25 [==============================] - 20s 797ms/step - loss: 24.8120\n",
      "Epoch 14/50\n",
      "25/25 [==============================] - 20s 783ms/step - loss: 26.6672\n",
      "Epoch 15/50\n",
      "25/25 [==============================] - 19s 768ms/step - loss: 27.6017\n",
      "Epoch 16/50\n",
      "25/25 [==============================] - 19s 743ms/step - loss: 22.8659\n",
      "Epoch 17/50\n",
      "25/25 [==============================] - 19s 774ms/step - loss: 24.7785\n",
      "Epoch 18/50\n",
      "25/25 [==============================] - 20s 804ms/step - loss: 25.3242\n",
      "Epoch 19/50\n",
      "25/25 [==============================] - 19s 747ms/step - loss: 23.2984\n",
      "Epoch 20/50\n",
      "25/25 [==============================] - 20s 818ms/step - loss: 28.1923\n",
      "Epoch 21/50\n",
      "25/25 [==============================] - 19s 772ms/step - loss: 21.2605\n",
      "Epoch 22/50\n",
      "25/25 [==============================] - 20s 807ms/step - loss: 27.6111\n",
      "Epoch 23/50\n",
      "25/25 [==============================] - 20s 796ms/step - loss: 23.4651\n",
      "Epoch 24/50\n",
      "25/25 [==============================] - 18s 737ms/step - loss: 22.1804\n",
      "Epoch 25/50\n",
      "25/25 [==============================] - 18s 731ms/step - loss: 25.2510\n",
      "Epoch 26/50\n",
      "25/25 [==============================] - 21s 848ms/step - loss: 24.4534\n",
      "Epoch 27/50\n",
      "25/25 [==============================] - 21s 858ms/step - loss: 22.7213\n",
      "Epoch 28/50\n",
      "25/25 [==============================] - 20s 791ms/step - loss: 22.9881\n",
      "Epoch 29/50\n",
      "25/25 [==============================] - 19s 741ms/step - loss: 25.7191\n",
      "Epoch 30/50\n",
      "25/25 [==============================] - 21s 829ms/step - loss: 22.2269\n",
      "Epoch 31/50\n",
      "25/25 [==============================] - 21s 842ms/step - loss: 26.3382\n",
      "Epoch 32/50\n",
      "25/25 [==============================] - 20s 780ms/step - loss: 26.7336\n",
      "Epoch 33/50\n",
      "25/25 [==============================] - 20s 808ms/step - loss: 21.9311\n",
      "Epoch 34/50\n",
      "25/25 [==============================] - 21s 838ms/step - loss: 22.9609\n",
      "Epoch 35/50\n",
      "25/25 [==============================] - 18s 711ms/step - loss: 21.6975\n",
      "Epoch 36/50\n",
      "25/25 [==============================] - 22s 860ms/step - loss: 24.9514\n",
      "Epoch 37/50\n",
      "25/25 [==============================] - 19s 740ms/step - loss: 22.2769\n",
      "Epoch 38/50\n",
      "25/25 [==============================] - 22s 892ms/step - loss: 23.2092\n",
      "Epoch 39/50\n",
      "25/25 [==============================] - 19s 766ms/step - loss: 24.7442\n",
      "Epoch 40/50\n",
      "25/25 [==============================] - 20s 786ms/step - loss: 31.9169\n",
      "Epoch 41/50\n",
      "25/25 [==============================] - 18s 738ms/step - loss: 22.7879\n",
      "Epoch 42/50\n",
      "25/25 [==============================] - 21s 853ms/step - loss: 21.4859\n",
      "Epoch 43/50\n",
      "25/25 [==============================] - 20s 795ms/step - loss: 23.5329\n",
      "Epoch 44/50\n",
      "25/25 [==============================] - 20s 785ms/step - loss: 23.1534\n",
      "Epoch 45/50\n",
      "25/25 [==============================] - 20s 785ms/step - loss: 20.5156\n",
      "Epoch 46/50\n",
      "25/25 [==============================] - 21s 851ms/step - loss: 20.4648\n",
      "Epoch 47/50\n",
      "25/25 [==============================] - 18s 715ms/step - loss: 20.1357\n",
      "Epoch 48/50\n",
      "25/25 [==============================] - 18s 714ms/step - loss: 17.3562\n",
      "Epoch 49/50\n",
      "25/25 [==============================] - 17s 687ms/step - loss: 20.7781\n",
      "Epoch 50/50\n",
      "25/25 [==============================] - 19s 755ms/step - loss: 23.0025\n"
     ]
    }
   ],
   "source": [
    "hidden_units_3 = [50, 40, 30, 20, 20]\n",
    "m3, history3 = learn_heuristic(layers, max_d, p, steps, epochs,\n",
    "                               batch_size, hidden_units_3, dropout)\n",
    "save_model(m3, get_model_filename(layers, max_d, hidden_units_3))"
   ]
  },
  {
   "cell_type": "code",
   "execution_count": 0,
   "metadata": {
    "colab": {},
    "colab_type": "code",
    "id": "znxUQ9V37p-p"
   },
   "outputs": [],
   "source": [
    "### STEP 7 :  Plotting the Average Loss VS Learning Curves"
   ]
  },
  {
   "cell_type": "code",
   "execution_count": 15,
   "metadata": {
    "colab": {
     "base_uri": "https://localhost:8080/",
     "height": 295
    },
    "colab_type": "code",
    "executionInfo": {
     "elapsed": 2980566,
     "status": "ok",
     "timestamp": 1556766671603,
     "user": {
      "displayName": "Gunasegarran Magadevan",
      "photoUrl": "https://lh6.googleusercontent.com/-MbOdY-Y6KeU/AAAAAAAAAAI/AAAAAAAAAr0/aVltPfbFr5U/s64/photo.jpg",
      "userId": "14938348637033574038"
     },
     "user_tz": -480
    },
    "id": "8UkD5wtR7p-r",
    "outputId": "62980f33-d3fe-4737-c37a-80ca7778bea0"
   },
   "outputs": [
    {
     "data": {
      "image/png": "[encoded data removed]",
      "text/plain": [
       "<Figure size 432x288 with 1 Axes>"
      ]
     },
     "metadata": {
      "tags": []
     },
     "output_type": "display_data"
    }
   ],
   "source": [
    "histories = pd.DataFrame(data={\n",
    "    '$\\hat h_1$': history1.history['loss'],\n",
    "    '$\\hat h_2$': history2.history['loss'],\n",
    "    '$\\hat h_3$': history3.history['loss'],\n",
    "    'epoch': np.arange(1, epochs+1)\n",
    "}).set_index('epoch')\n",
    "sns.lineplot(data=histories);\n",
    "plt.ylabel('average loss');\n",
    "plt.title('Learning Curves');"
   ]
  },
  {
   "cell_type": "code",
   "execution_count": 0,
   "metadata": {
    "colab": {},
    "colab_type": "code",
    "id": "s8LHW8Yp7p-s"
   },
   "outputs": [],
   "source": [
    "histories.to_csv('3_25_training_loss_epoch_1-50.csv')\n",
    "from google.colab import files\n",
    "files.download('3_25_training_loss_epoch_1-50.csv')"
   ]
  },
  {
   "cell_type": "code",
   "execution_count": 0,
   "metadata": {
    "colab": {},
    "colab_type": "code",
    "id": "kZg305-o7p-u"
   },
   "outputs": [],
   "source": [
    "### STEP 8 : Continue Training\n",
    "#### This section loads already trained models and continues to train them."
   ]
  },
  {
   "cell_type": "code",
   "execution_count": 0,
   "metadata": {
    "colab": {},
    "colab_type": "code",
    "id": "xsV2CGDh7p-w"
   },
   "outputs": [],
   "source": [
    "layers = 3\n",
    "max_d = 25\n",
    "p = convex_combination_probabilities(0.1, 0, max_d+1)\n",
    "steps = 15\n",
    "epochs = 50\n",
    "batch_size = 8\n",
    "\n",
    "hidden_units_1 = [70, 60, 50]\n",
    "hidden_units_2 = [50, 50, 50, 50]\n",
    "hidden_units_3 = [50, 40, 30, 20, 20]"
   ]
  },
  {
   "cell_type": "code",
   "execution_count": 0,
   "metadata": {
    "colab": {},
    "colab_type": "code",
    "id": "cnd-cpxe7p-x"
   },
   "outputs": [],
   "source": [
    "fn1 = get_model_filename(layers, max_d, hidden_units_1)\n",
    "fn2 = get_model_filename(layers, max_d, hidden_units_2)\n",
    "fn3 = get_model_filename(layers, max_d, hidden_units_3)\n",
    "\n",
    "m1 = load_model(fn1)\n",
    "m2 = load_model(fn2)\n",
    "m3 = load_model(fn3)"
   ]
  },
  {
   "cell_type": "code",
   "execution_count": 0,
   "metadata": {
    "colab": {
     "base_uri": "https://localhost:8080/",
     "height": 187
    },
    "colab_type": "code",
    "id": "tqslXUN37p-y",
    "outputId": "da82ec29-8f50-4486-979a-faaebbffad5a"
   },
   "outputs": [
    {
     "name": "stdout",
     "output_type": "stream",
     "text": [
      "Epoch 1/50\n",
      "15/15 [==============================] - 12s 793ms/step - loss: 22.9925\n",
      "Epoch 2/50\n",
      "15/15 [==============================] - 12s 797ms/step - loss: 20.0467\n",
      "Epoch 3/50\n",
      "15/15 [==============================] - 11s 753ms/step - loss: 19.7549\n",
      "Epoch 4/50\n",
      "15/15 [==============================] - 12s 802ms/step - loss: 21.9052\n",
      "Epoch 5/50\n",
      "11/15 [=====================>........] - ETA: 3s - loss: 21.5157"
     ]
    }
   ],
   "source": [
    "# add some more training for each of the model\n",
    "history1 = m1.fit_generator(\n",
    "    data_generator(layers, max_d, batch_size, p), steps, epochs)\n",
    "save_model(m1, fn1)\n",
    "history2 = m2.fit_generator(\n",
    "    data_generator(layers, max_d, batch_size, p), steps, epochs)\n",
    "save_model(m2, fn2)\n",
    "history3 = m3.fit_generator(\n",
    "    data_generator(layers, max_d, batch_size, p), steps, epochs)\n",
    "save_model(m3, fn3)\n",
    "\n",
    "histories = pd.DataFrame(data={\n",
    "    '$\\hat h_1$': history1.history['loss'],\n",
    "    '$\\hat h_2$': history2.history['loss'],\n",
    "    '$\\hat h_3$': history3.history['loss'],\n",
    "    'epoch': np.arange(101, 101 + epochs)\n",
    "}).set_index('epoch')"
   ]
  }
 ],
 "metadata": {
  "accelerator": "GPU",
  "colab": {
   "collapsed_sections": [],
   "name": "Neural_Rubik_Train_Data_1.ipynb",
   "provenance": [],
   "version": "0.3.2"
  },
  "kernelspec": {
   "display_name": "Python 3",
   "language": "python",
   "name": "python3"
  },
  "language_info": {
   "codemirror_mode": {
    "name": "ipython",
    "version": 3
   },
   "file_extension": ".py",
   "mimetype": "text/x-python",
   "name": "python",
   "nbconvert_exporter": "python",
   "pygments_lexer": "ipython3",
   "version": "3.7.3"
  }
 },
 "nbformat": 4,
 "nbformat_minor": 1
}
