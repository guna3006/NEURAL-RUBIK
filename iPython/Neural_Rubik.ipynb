{
 "cells": [
  {
   "cell_type": "markdown",
   "metadata": {
    "colab_type": "text",
    "id": "2f7pvEnlK-wc"
   },
   "source": [
    "# <center> <img src='../images/fsktm.jpg' width=\"500\" height=\"400\"> </center>\n",
    "# <center> WQD7002 - SCIENCE DATA RESEARCH PROJECT </center>\n",
    "## <center> NEURAL RUBIK’S </center>\n",
    "## <center> Solving Rubik's Cube Using Nueral Network (Hueristic Learning) </center>\n",
    "### <center> Scripted by : Gunasegarran Magadevan (WQD170002) </center>\n",
    "### <center> Supervised by : Dr.Aznul Qalid Md Sabri </center>\n",
    "# <center> <img src=\"../images/RubiksNeural.jpg\" width=\"400\" height=\"300\"> </center>\n",
    "----\n",
    "\n"
   ]
  },
  {
   "cell_type": "markdown",
   "metadata": {
    "colab_type": "text",
    "collapsed": true,
    "id": "nSiaNrOyK-we"
   },
   "source": [
    "### STEP 1 : Installing and upgrading the package"
   ]
  },
  {
   "cell_type": "code",
   "execution_count": 1,
   "metadata": {
    "colab": {
     "base_uri": "https://localhost:8080/",
     "height": 505
    },
    "colab_type": "code",
    "executionInfo": {
     "elapsed": 23126,
     "status": "ok",
     "timestamp": 1555993003969,
     "user": {
      "displayName": "Gunasegarran Magadevan",
      "photoUrl": "https://lh6.googleusercontent.com/-MbOdY-Y6KeU/AAAAAAAAAAI/AAAAAAAAAr0/aVltPfbFr5U/s64/photo.jpg",
      "userId": "14938348637033574038"
     },
     "user_tz": -480
    },
    "id": "KeEP9m4LK-wg",
    "outputId": "e239bf0b-4e45-4be6-aeb5-5c0643269d0d"
   },
   "outputs": [
    {
     "name": "stdout",
     "output_type": "stream",
     "text": [
      "\n",
      "Usage:   \n",
      "  /usr/bin/python3 -m pip install [options] <requirement specifier> [package-index-options] ...\n",
      "  /usr/bin/python3 -m pip install [options] -r <requirements file> [package-index-options] ...\n",
      "  /usr/bin/python3 -m pip install [options] [-e] <vcs project url> ...\n",
      "  /usr/bin/python3 -m pip install [options] [-e] <local project path> ...\n",
      "  /usr/bin/python3 -m pip install [options] <archive url/path> ...\n",
      "\n",
      "no such option: -n\n",
      "\n",
      "Usage:   \n",
      "  /usr/bin/python3 -m pip install [options] <requirement specifier> [package-index-options] ...\n",
      "  /usr/bin/python3 -m pip install [options] -r <requirements file> [package-index-options] ...\n",
      "  /usr/bin/python3 -m pip install [options] [-e] <vcs project url> ...\n",
      "  /usr/bin/python3 -m pip install [options] [-e] <local project path> ...\n",
      "  /usr/bin/python3 -m pip install [options] <archive url/path> ...\n",
      "\n",
      "no such option: -n\n",
      "\n",
      "Usage:   \n",
      "  /usr/bin/python3 -m pip install [options] <requirement specifier> [package-index-options] ...\n",
      "  /usr/bin/python3 -m pip install [options] -r <requirements file> [package-index-options] ...\n",
      "  /usr/bin/python3 -m pip install [options] [-e] <vcs project url> ...\n",
      "  /usr/bin/python3 -m pip install [options] [-e] <local project path> ...\n",
      "  /usr/bin/python3 -m pip install [options] <archive url/path> ...\n",
      "\n",
      "no such option: -n\n"
     ]
    }
   ],
   "source": [
    "# Upgrading the pip package to the latest version\n",
    "!python -m pip install -no-cache-dir --upgrade --quiet\n",
    "!python -m pip install PyHamcrest -no-cache-dir --upgrade --quiet\n",
    "!python -m pip install tensorflow -no-cache-dir --upgrade --quiet\n",
    "!python -m pip install rubikai==0.1.2 --no-cache-dir --upgrade --quiet\n",
    "!python -m pip install cubeai --no-cache-dir --upgrade --quiet\n",
    "!python -m pip install seaborn --no-cache-dir --upgrade --quiet\n",
    "!python -m pip install keras --no-cache-dir --upgrade --quiet\n",
    "\n",
    "# Tensorflow package manually through terminal or cmd - https://anaconda.org/conda-forge\n",
    "#conda install -c conda-forge tensorflow\n",
    "#conda install -c conda-forge numpy"
   ]
  },
  {
   "cell_type": "markdown",
   "metadata": {
    "colab_type": "text",
    "id": "WC0fAa0yK-wm"
   },
   "source": [
    "### STEP 2 : Importing the package"
   ]
  },
  {
   "cell_type": "code",
   "execution_count": 2,
   "metadata": {
    "colab": {
     "base_uri": "https://localhost:8080/",
     "height": 34
    },
    "colab_type": "code",
    "executionInfo": {
     "elapsed": 24799,
     "status": "ok",
     "timestamp": 1555993005672,
     "user": {
      "displayName": "Gunasegarran Magadevan",
      "photoUrl": "https://lh6.googleusercontent.com/-MbOdY-Y6KeU/AAAAAAAAAAI/AAAAAAAAAr0/aVltPfbFr5U/s64/photo.jpg",
      "userId": "14938348637033574038"
     },
     "user_tz": -480
    },
    "id": "EOd6K-mVK-wo",
    "outputId": "9915467f-1bd7-4290-f07f-f0c1e321af04"
   },
   "outputs": [
    {
     "name": "stderr",
     "output_type": "stream",
     "text": [
      "Using TensorFlow backend.\n"
     ]
    }
   ],
   "source": [
    "# Importing packages\n",
    "import rubikai as rubik             # To use Rubik's Cube features and Heuristic search.\n",
    "import numpy as np                  # To manipulate large multi-dimensional arrays .\n",
    "import pandas as pd                 # To use data structures and data analysis tools.\n",
    "import seaborn as sns               # To create statistical graphics.\n",
    "import matplotlib.pyplot as plt     # To create 2D graphics.\n",
    "import keras                        # High-level neural networks.               "
   ]
  },
  {
   "cell_type": "markdown",
   "metadata": {
    "colab_type": "text",
    "id": "WgdgA2eKK-wv"
   },
   "source": [
    "### STEP 3 : Rubik's Cube Module"
   ]
  },
  {
   "cell_type": "code",
   "execution_count": 0,
   "metadata": {
    "colab": {},
    "colab_type": "code",
    "id": "7dTV23UIK-ww"
   },
   "outputs": [],
   "source": [
    "# Set as 3Dim (3x3)\n",
    "dimCube = 3 "
   ]
  },
  {
   "cell_type": "markdown",
   "metadata": {
    "colab_type": "text",
    "id": "Fv-jjl53K-w0"
   },
   "source": [
    "#### STEP 3.1 : Randomly "
   ]
  },
  {
   "cell_type": "code",
   "execution_count": 4,
   "metadata": {
    "colab": {
     "base_uri": "https://localhost:8080/",
     "height": 238
    },
    "colab_type": "code",
    "executionInfo": {
     "elapsed": 24769,
     "status": "ok",
     "timestamp": 1555993005674,
     "user": {
      "displayName": "Gunasegarran Magadevan",
      "photoUrl": "https://lh6.googleusercontent.com/-MbOdY-Y6KeU/AAAAAAAAAAI/AAAAAAAAAr0/aVltPfbFr5U/s64/photo.jpg",
      "userId": "14938348637033574038"
     },
     "user_tz": -480
    },
    "id": "Rd-JxnbIK-w4",
    "outputId": "0c0731e7-3030-436f-e1b7-6bf3958f5ed3"
   },
   "outputs": [
    {
     "name": "stdout",
     "output_type": "stream",
     "text": [
      "Applying sequence: U L B' R' F\n",
      "    \u001b[42m\u001b[37mG\u001b[0m\u001b[42m\u001b[37mG\u001b[0m\u001b[42m\u001b[37mG\u001b[0m\n",
      "    \u001b[43m\u001b[37mY\u001b[0m\u001b[45m\u001b[37mO\u001b[0m\u001b[42m\u001b[37mG\u001b[0m\n",
      "    \u001b[47m\u001b[30mW\u001b[0m\u001b[47m\u001b[30mW\u001b[0m\u001b[47m\u001b[30mW\u001b[0m\n",
      "\n",
      "\u001b[47m\u001b[30mW\u001b[0m\u001b[42m\u001b[37mG\u001b[0m\u001b[44m\u001b[37mB\u001b[0m \u001b[45m\u001b[37mO\u001b[0m\u001b[45m\u001b[37mO\u001b[0m\u001b[45m\u001b[37mO\u001b[0m \u001b[42m\u001b[37mG\u001b[0m\u001b[45m\u001b[37mO\u001b[0m\u001b[45m\u001b[37mO\u001b[0m \u001b[43m\u001b[37mY\u001b[0m\u001b[41m\u001b[37mR\u001b[0m\u001b[41m\u001b[37mR\u001b[0m\n",
      "\u001b[41m\u001b[37mR\u001b[0m\u001b[42m\u001b[37mG\u001b[0m\u001b[41m\u001b[37mR\u001b[0m \u001b[47m\u001b[30mW\u001b[0m\u001b[47m\u001b[30mW\u001b[0m\u001b[44m\u001b[37mB\u001b[0m \u001b[45m\u001b[37mO\u001b[0m\u001b[44m\u001b[37mB\u001b[0m\u001b[44m\u001b[37mB\u001b[0m \u001b[41m\u001b[37mR\u001b[0m\u001b[43m\u001b[37mY\u001b[0m\u001b[43m\u001b[37mY\u001b[0m\n",
      "\u001b[41m\u001b[37mR\u001b[0m\u001b[42m\u001b[37mG\u001b[0m\u001b[44m\u001b[37mB\u001b[0m \u001b[45m\u001b[37mO\u001b[0m\u001b[45m\u001b[37mO\u001b[0m\u001b[42m\u001b[37mG\u001b[0m \u001b[41m\u001b[37mR\u001b[0m\u001b[44m\u001b[37mB\u001b[0m\u001b[44m\u001b[37mB\u001b[0m \u001b[41m\u001b[37mR\u001b[0m\u001b[43m\u001b[37mY\u001b[0m\u001b[43m\u001b[37mY\u001b[0m\n",
      "\n",
      "    \u001b[43m\u001b[37mY\u001b[0m\u001b[43m\u001b[37mY\u001b[0m\u001b[43m\u001b[37mY\u001b[0m\n",
      "    \u001b[47m\u001b[30mW\u001b[0m\u001b[41m\u001b[37mR\u001b[0m\u001b[47m\u001b[30mW\u001b[0m\n",
      "    \u001b[44m\u001b[37mB\u001b[0m\u001b[44m\u001b[37mB\u001b[0m\u001b[47m\u001b[30mW\u001b[0m\n",
      "\n"
     ]
    }
   ],
   "source": [
    "# Manually scrambled\n",
    "notation1 = \"U L B' R' F\"\n",
    "print('Applying sequence:', notation1)\n",
    "sampleCube1 = rubik.Cube(dimCube).apply(notation1)\n",
    "print(sampleCube1)"
   ]
  },
  {
   "cell_type": "code",
   "execution_count": 5,
   "metadata": {
    "colab": {
     "base_uri": "https://localhost:8080/",
     "height": 238
    },
    "colab_type": "code",
    "executionInfo": {
     "elapsed": 24746,
     "status": "ok",
     "timestamp": 1555993005675,
     "user": {
      "displayName": "Gunasegarran Magadevan",
      "photoUrl": "https://lh6.googleusercontent.com/-MbOdY-Y6KeU/AAAAAAAAAAI/AAAAAAAAAr0/aVltPfbFr5U/s64/photo.jpg",
      "userId": "14938348637033574038"
     },
     "user_tz": -480
    },
    "id": "SCNDEpTYK-w-",
    "outputId": "34d17926-6280-4674-a0b2-a7bcecd79c78"
   },
   "outputs": [
    {
     "name": "stdout",
     "output_type": "stream",
     "text": [
      "Applying random sequence: [U', F', R, L']\n",
      "    \u001b[42m\u001b[37mG\u001b[0m\u001b[45m\u001b[37mO\u001b[0m\u001b[47m\u001b[30mW\u001b[0m\n",
      "    \u001b[42m\u001b[37mG\u001b[0m\u001b[45m\u001b[37mO\u001b[0m\u001b[47m\u001b[30mW\u001b[0m\n",
      "    \u001b[42m\u001b[37mG\u001b[0m\u001b[44m\u001b[37mB\u001b[0m\u001b[47m\u001b[30mW\u001b[0m\n",
      "\n",
      "\u001b[45m\u001b[37mO\u001b[0m\u001b[45m\u001b[37mO\u001b[0m\u001b[45m\u001b[37mO\u001b[0m \u001b[43m\u001b[37mY\u001b[0m\u001b[47m\u001b[30mW\u001b[0m\u001b[42m\u001b[37mG\u001b[0m \u001b[41m\u001b[37mR\u001b[0m\u001b[41m\u001b[37mR\u001b[0m\u001b[41m\u001b[37mR\u001b[0m \u001b[44m\u001b[37mB\u001b[0m\u001b[44m\u001b[37mB\u001b[0m\u001b[47m\u001b[30mW\u001b[0m\n",
      "\u001b[43m\u001b[37mY\u001b[0m\u001b[42m\u001b[37mG\u001b[0m\u001b[42m\u001b[37mG\u001b[0m \u001b[41m\u001b[37mR\u001b[0m\u001b[47m\u001b[30mW\u001b[0m\u001b[41m\u001b[37mR\u001b[0m \u001b[44m\u001b[37mB\u001b[0m\u001b[44m\u001b[37mB\u001b[0m\u001b[47m\u001b[30mW\u001b[0m \u001b[45m\u001b[37mO\u001b[0m\u001b[43m\u001b[37mY\u001b[0m\u001b[45m\u001b[37mO\u001b[0m\n",
      "\u001b[43m\u001b[37mY\u001b[0m\u001b[42m\u001b[37mG\u001b[0m\u001b[42m\u001b[37mG\u001b[0m \u001b[41m\u001b[37mR\u001b[0m\u001b[47m\u001b[30mW\u001b[0m\u001b[41m\u001b[37mR\u001b[0m \u001b[44m\u001b[37mB\u001b[0m\u001b[44m\u001b[37mB\u001b[0m\u001b[47m\u001b[30mW\u001b[0m \u001b[45m\u001b[37mO\u001b[0m\u001b[43m\u001b[37mY\u001b[0m\u001b[45m\u001b[37mO\u001b[0m\n",
      "\n",
      "    \u001b[43m\u001b[37mY\u001b[0m\u001b[42m\u001b[37mG\u001b[0m\u001b[43m\u001b[37mY\u001b[0m\n",
      "    \u001b[43m\u001b[37mY\u001b[0m\u001b[41m\u001b[37mR\u001b[0m\u001b[43m\u001b[37mY\u001b[0m\n",
      "    \u001b[44m\u001b[37mB\u001b[0m\u001b[41m\u001b[37mR\u001b[0m\u001b[44m\u001b[37mB\u001b[0m\n",
      "\n"
     ]
    }
   ],
   "source": [
    "# Randomly scrambled\n",
    "scrambe = 4\n",
    "notation2 = rubik.generate_random_sequence(dimCube, scrambe)\n",
    "print('Applying random sequence:', notation2)\n",
    "sampleCube2 = rubik.Cube(dimCube).apply(notation2)\n",
    "print(sampleCube2)"
   ]
  },
  {
   "cell_type": "code",
   "execution_count": 0,
   "metadata": {
    "colab": {},
    "colab_type": "code",
    "id": "mkuk-HjMK-xC"
   },
   "outputs": [],
   "source": [
    "# Clean\n",
    "del sampleCube1, sampleCube2"
   ]
  },
  {
   "cell_type": "markdown",
   "metadata": {
    "colab_type": "text",
    "id": "7YVXw6GXK-xF"
   },
   "source": [
    "### STEP 4 : Rubik's Cube Solver"
   ]
  },
  {
   "cell_type": "code",
   "execution_count": 0,
   "metadata": {
    "colab": {},
    "colab_type": "code",
    "id": "qr14mclbUI87"
   },
   "outputs": [],
   "source": [
    "# save/load model functions\n",
    "def save_model(model, filename):\n",
    "  global SAVE_TO_DRIVE\n",
    "  if SAVE_TO_DRIVE is True:\n",
    "    model.save(filename)\n",
    "    upload_file_to_drive(filename, filename)\n",
    "    return\n",
    "\n",
    "\n",
    "def load_model(filename):\n",
    "  return download_model_from_drive(filename, filename)"
   ]
  },
  {
   "cell_type": "code",
   "execution_count": 15,
   "metadata": {
    "colab": {
     "base_uri": "https://localhost:8080/",
     "height": 477
    },
    "colab_type": "code",
    "executionInfo": {
     "elapsed": 4747,
     "status": "error",
     "timestamp": 1556002647813,
     "user": {
      "displayName": "Gunasegarran Magadevan",
      "photoUrl": "https://lh6.googleusercontent.com/-MbOdY-Y6KeU/AAAAAAAAAAI/AAAAAAAAAr0/aVltPfbFr5U/s64/photo.jpg",
      "userId": "14938348637033574038"
     },
     "user_tz": -480
    },
    "id": "-7uQfQxTK-xG",
    "outputId": "a687fd02-d436-4ce2-9e98-1613f79a2950"
   },
   "outputs": [
    {
     "ename": "OSError",
     "evalue": "ignored",
     "output_type": "error",
     "traceback": [
      "\u001b[0;31m---------------------------------------------------------------------------\u001b[0m",
      "\u001b[0;31mOSError\u001b[0m                                   Traceback (most recent call last)",
      "\u001b[0;32m<ipython-input-15-504a710aa138>\u001b[0m in \u001b[0;36m<module>\u001b[0;34m()\u001b[0m\n\u001b[1;32m      1\u001b[0m \u001b[0mget_ipython\u001b[0m\u001b[0;34m(\u001b[0m\u001b[0;34m)\u001b[0m\u001b[0;34m.\u001b[0m\u001b[0msystem\u001b[0m\u001b[0;34m(\u001b[0m\u001b[0;34m'wget https://github.com/guna3006/NEURAL-RUBIK/blob/master/trainedModel/3_10_50_50_50_50.h5 -O tmp_model.h5 -q'\u001b[0m\u001b[0;34m)\u001b[0m\u001b[0;34m\u001b[0m\u001b[0;34m\u001b[0m\u001b[0m\n\u001b[0;32m----> 2\u001b[0;31m \u001b[0mmodel\u001b[0m \u001b[0;34m=\u001b[0m \u001b[0mkeras\u001b[0m\u001b[0;34m.\u001b[0m\u001b[0mmodels\u001b[0m\u001b[0;34m.\u001b[0m\u001b[0mload_model\u001b[0m\u001b[0;34m(\u001b[0m\u001b[0;34m'tmp_model.h5'\u001b[0m\u001b[0;34m)\u001b[0m\u001b[0;34m\u001b[0m\u001b[0;34m\u001b[0m\u001b[0m\n\u001b[0m\u001b[1;32m      3\u001b[0m \u001b[0;34m\u001b[0m\u001b[0m\n\u001b[1;32m      4\u001b[0m \u001b[0;32mdef\u001b[0m \u001b[0mget_features_from_cube\u001b[0m\u001b[0;34m(\u001b[0m\u001b[0mcube\u001b[0m\u001b[0;34m)\u001b[0m\u001b[0;34m:\u001b[0m\u001b[0;34m\u001b[0m\u001b[0;34m\u001b[0m\u001b[0m\n\u001b[1;32m      5\u001b[0m   \u001b[0mbinary_array\u001b[0m \u001b[0;34m=\u001b[0m \u001b[0mkeras\u001b[0m\u001b[0;34m.\u001b[0m\u001b[0mutils\u001b[0m\u001b[0;34m.\u001b[0m\u001b[0mto_categorical\u001b[0m\u001b[0;34m(\u001b[0m\u001b[0mcube\u001b[0m\u001b[0;34m.\u001b[0m\u001b[0mto_array\u001b[0m\u001b[0;34m(\u001b[0m\u001b[0;34m)\u001b[0m\u001b[0;34m,\u001b[0m \u001b[0mrubik\u001b[0m\u001b[0;34m.\u001b[0m\u001b[0mNUM_FACES\u001b[0m\u001b[0;34m)\u001b[0m\u001b[0;34m\u001b[0m\u001b[0;34m\u001b[0m\u001b[0m\n",
      "\u001b[0;32m/usr/local/lib/python3.6/dist-packages/keras/engine/saving.py\u001b[0m in \u001b[0;36mload_model\u001b[0;34m(filepath, custom_objects, compile)\u001b[0m\n\u001b[1;32m    415\u001b[0m     \u001b[0mmodel\u001b[0m \u001b[0;34m=\u001b[0m \u001b[0;32mNone\u001b[0m\u001b[0;34m\u001b[0m\u001b[0;34m\u001b[0m\u001b[0m\n\u001b[1;32m    416\u001b[0m     \u001b[0mopened_new_file\u001b[0m \u001b[0;34m=\u001b[0m \u001b[0;32mnot\u001b[0m \u001b[0misinstance\u001b[0m\u001b[0;34m(\u001b[0m\u001b[0mfilepath\u001b[0m\u001b[0;34m,\u001b[0m \u001b[0mh5py\u001b[0m\u001b[0;34m.\u001b[0m\u001b[0mGroup\u001b[0m\u001b[0;34m)\u001b[0m\u001b[0;34m\u001b[0m\u001b[0;34m\u001b[0m\u001b[0m\n\u001b[0;32m--> 417\u001b[0;31m     \u001b[0mf\u001b[0m \u001b[0;34m=\u001b[0m \u001b[0mh5dict\u001b[0m\u001b[0;34m(\u001b[0m\u001b[0mfilepath\u001b[0m\u001b[0;34m,\u001b[0m \u001b[0;34m'r'\u001b[0m\u001b[0;34m)\u001b[0m\u001b[0;34m\u001b[0m\u001b[0;34m\u001b[0m\u001b[0m\n\u001b[0m\u001b[1;32m    418\u001b[0m     \u001b[0;32mtry\u001b[0m\u001b[0;34m:\u001b[0m\u001b[0;34m\u001b[0m\u001b[0;34m\u001b[0m\u001b[0m\n\u001b[1;32m    419\u001b[0m         \u001b[0mmodel\u001b[0m \u001b[0;34m=\u001b[0m \u001b[0m_deserialize_model\u001b[0m\u001b[0;34m(\u001b[0m\u001b[0mf\u001b[0m\u001b[0;34m,\u001b[0m \u001b[0mcustom_objects\u001b[0m\u001b[0;34m,\u001b[0m \u001b[0mcompile\u001b[0m\u001b[0;34m)\u001b[0m\u001b[0;34m\u001b[0m\u001b[0;34m\u001b[0m\u001b[0m\n",
      "\u001b[0;32m/usr/local/lib/python3.6/dist-packages/keras/utils/io_utils.py\u001b[0m in \u001b[0;36m__init__\u001b[0;34m(self, path, mode)\u001b[0m\n\u001b[1;32m    184\u001b[0m             \u001b[0mself\u001b[0m\u001b[0;34m.\u001b[0m\u001b[0m_is_file\u001b[0m \u001b[0;34m=\u001b[0m \u001b[0;32mFalse\u001b[0m\u001b[0;34m\u001b[0m\u001b[0;34m\u001b[0m\u001b[0m\n\u001b[1;32m    185\u001b[0m         \u001b[0;32melif\u001b[0m \u001b[0misinstance\u001b[0m\u001b[0;34m(\u001b[0m\u001b[0mpath\u001b[0m\u001b[0;34m,\u001b[0m \u001b[0mstr\u001b[0m\u001b[0;34m)\u001b[0m\u001b[0;34m:\u001b[0m\u001b[0;34m\u001b[0m\u001b[0;34m\u001b[0m\u001b[0m\n\u001b[0;32m--> 186\u001b[0;31m             \u001b[0mself\u001b[0m\u001b[0;34m.\u001b[0m\u001b[0mdata\u001b[0m \u001b[0;34m=\u001b[0m \u001b[0mh5py\u001b[0m\u001b[0;34m.\u001b[0m\u001b[0mFile\u001b[0m\u001b[0;34m(\u001b[0m\u001b[0mpath\u001b[0m\u001b[0;34m,\u001b[0m \u001b[0mmode\u001b[0m\u001b[0;34m=\u001b[0m\u001b[0mmode\u001b[0m\u001b[0;34m)\u001b[0m\u001b[0;34m\u001b[0m\u001b[0;34m\u001b[0m\u001b[0m\n\u001b[0m\u001b[1;32m    187\u001b[0m             \u001b[0mself\u001b[0m\u001b[0;34m.\u001b[0m\u001b[0m_is_file\u001b[0m \u001b[0;34m=\u001b[0m \u001b[0;32mTrue\u001b[0m\u001b[0;34m\u001b[0m\u001b[0;34m\u001b[0m\u001b[0m\n\u001b[1;32m    188\u001b[0m         \u001b[0;32melif\u001b[0m \u001b[0misinstance\u001b[0m\u001b[0;34m(\u001b[0m\u001b[0mpath\u001b[0m\u001b[0;34m,\u001b[0m \u001b[0mdict\u001b[0m\u001b[0;34m)\u001b[0m\u001b[0;34m:\u001b[0m\u001b[0;34m\u001b[0m\u001b[0;34m\u001b[0m\u001b[0m\n",
      "\u001b[0;32m/usr/local/lib/python3.6/dist-packages/h5py/_hl/files.py\u001b[0m in \u001b[0;36m__init__\u001b[0;34m(self, name, mode, driver, libver, userblock_size, swmr, **kwds)\u001b[0m\n\u001b[1;32m    310\u001b[0m             \u001b[0;32mwith\u001b[0m \u001b[0mphil\u001b[0m\u001b[0;34m:\u001b[0m\u001b[0;34m\u001b[0m\u001b[0;34m\u001b[0m\u001b[0m\n\u001b[1;32m    311\u001b[0m                 \u001b[0mfapl\u001b[0m \u001b[0;34m=\u001b[0m \u001b[0mmake_fapl\u001b[0m\u001b[0;34m(\u001b[0m\u001b[0mdriver\u001b[0m\u001b[0;34m,\u001b[0m \u001b[0mlibver\u001b[0m\u001b[0;34m,\u001b[0m \u001b[0;34m**\u001b[0m\u001b[0mkwds\u001b[0m\u001b[0;34m)\u001b[0m\u001b[0;34m\u001b[0m\u001b[0;34m\u001b[0m\u001b[0m\n\u001b[0;32m--> 312\u001b[0;31m                 \u001b[0mfid\u001b[0m \u001b[0;34m=\u001b[0m \u001b[0mmake_fid\u001b[0m\u001b[0;34m(\u001b[0m\u001b[0mname\u001b[0m\u001b[0;34m,\u001b[0m \u001b[0mmode\u001b[0m\u001b[0;34m,\u001b[0m \u001b[0muserblock_size\u001b[0m\u001b[0;34m,\u001b[0m \u001b[0mfapl\u001b[0m\u001b[0;34m,\u001b[0m \u001b[0mswmr\u001b[0m\u001b[0;34m=\u001b[0m\u001b[0mswmr\u001b[0m\u001b[0;34m)\u001b[0m\u001b[0;34m\u001b[0m\u001b[0;34m\u001b[0m\u001b[0m\n\u001b[0m\u001b[1;32m    313\u001b[0m \u001b[0;34m\u001b[0m\u001b[0m\n\u001b[1;32m    314\u001b[0m                 \u001b[0;32mif\u001b[0m \u001b[0mswmr_support\u001b[0m\u001b[0;34m:\u001b[0m\u001b[0;34m\u001b[0m\u001b[0;34m\u001b[0m\u001b[0m\n",
      "\u001b[0;32m/usr/local/lib/python3.6/dist-packages/h5py/_hl/files.py\u001b[0m in \u001b[0;36mmake_fid\u001b[0;34m(name, mode, userblock_size, fapl, fcpl, swmr)\u001b[0m\n\u001b[1;32m    140\u001b[0m         \u001b[0;32mif\u001b[0m \u001b[0mswmr\u001b[0m \u001b[0;32mand\u001b[0m \u001b[0mswmr_support\u001b[0m\u001b[0;34m:\u001b[0m\u001b[0;34m\u001b[0m\u001b[0;34m\u001b[0m\u001b[0m\n\u001b[1;32m    141\u001b[0m             \u001b[0mflags\u001b[0m \u001b[0;34m|=\u001b[0m \u001b[0mh5f\u001b[0m\u001b[0;34m.\u001b[0m\u001b[0mACC_SWMR_READ\u001b[0m\u001b[0;34m\u001b[0m\u001b[0;34m\u001b[0m\u001b[0m\n\u001b[0;32m--> 142\u001b[0;31m         \u001b[0mfid\u001b[0m \u001b[0;34m=\u001b[0m \u001b[0mh5f\u001b[0m\u001b[0;34m.\u001b[0m\u001b[0mopen\u001b[0m\u001b[0;34m(\u001b[0m\u001b[0mname\u001b[0m\u001b[0;34m,\u001b[0m \u001b[0mflags\u001b[0m\u001b[0;34m,\u001b[0m \u001b[0mfapl\u001b[0m\u001b[0;34m=\u001b[0m\u001b[0mfapl\u001b[0m\u001b[0;34m)\u001b[0m\u001b[0;34m\u001b[0m\u001b[0;34m\u001b[0m\u001b[0m\n\u001b[0m\u001b[1;32m    143\u001b[0m     \u001b[0;32melif\u001b[0m \u001b[0mmode\u001b[0m \u001b[0;34m==\u001b[0m \u001b[0;34m'r+'\u001b[0m\u001b[0;34m:\u001b[0m\u001b[0;34m\u001b[0m\u001b[0;34m\u001b[0m\u001b[0m\n\u001b[1;32m    144\u001b[0m         \u001b[0mfid\u001b[0m \u001b[0;34m=\u001b[0m \u001b[0mh5f\u001b[0m\u001b[0;34m.\u001b[0m\u001b[0mopen\u001b[0m\u001b[0;34m(\u001b[0m\u001b[0mname\u001b[0m\u001b[0;34m,\u001b[0m \u001b[0mh5f\u001b[0m\u001b[0;34m.\u001b[0m\u001b[0mACC_RDWR\u001b[0m\u001b[0;34m,\u001b[0m \u001b[0mfapl\u001b[0m\u001b[0;34m=\u001b[0m\u001b[0mfapl\u001b[0m\u001b[0;34m)\u001b[0m\u001b[0;34m\u001b[0m\u001b[0;34m\u001b[0m\u001b[0m\n",
      "\u001b[0;32mh5py/_objects.pyx\u001b[0m in \u001b[0;36mh5py._objects.with_phil.wrapper\u001b[0;34m()\u001b[0m\n",
      "\u001b[0;32mh5py/_objects.pyx\u001b[0m in \u001b[0;36mh5py._objects.with_phil.wrapper\u001b[0;34m()\u001b[0m\n",
      "\u001b[0;32mh5py/h5f.pyx\u001b[0m in \u001b[0;36mh5py.h5f.open\u001b[0;34m()\u001b[0m\n",
      "\u001b[0;31mOSError\u001b[0m: Unable to open file (file signature not found)"
     ]
    }
   ],
   "source": [
    "!wget  -O tmp_model.h5 -q\n",
    "model = keras.models.load_model('tmp_model.h5')\n",
    "\n",
    "def get_features_from_cube(cube):\n",
    "  binary_array = keras.utils.to_categorical(cube.to_array(), rubik.NUM_FACES)\n",
    "  return binary_array.flatten()\n",
    "\n",
    "# Defining Heuristic\n",
    "def model_h(cube, problem=None):\n",
    "  features = get_features_from_cube(cube)\n",
    "  return model.predict(np.reshape(features, (1, -1)))[0][0]"
   ]
  },
  {
   "cell_type": "code",
   "execution_count": 0,
   "metadata": {
    "colab": {},
    "colab_type": "code",
    "id": "AeIkNEXRK-xM"
   },
   "outputs": [],
   "source": [
    "scramble = np.random.randint(9)\n",
    "\n",
    "cube3 = rubik.Cube()\n",
    "rand_seq = rubik.generate_random_sequence(3, scramble)\n",
    "print('Generated random sequence:', rand_seq)\n",
    "cube3.apply(rand_seq)\n",
    "print('Solving...')\n",
    "rubik.solve(cube3, model_h, verbose=True);"
   ]
  },
  {
   "cell_type": "code",
   "execution_count": 0,
   "metadata": {
    "colab": {},
    "colab_type": "code",
    "id": "92cIj76pK-xQ"
   },
   "outputs": [],
   "source": [
    "# Clean\n",
    "del model, model_h, cube3, rand_seq"
   ]
  },
  {
   "cell_type": "markdown",
   "metadata": {
    "colab_type": "text",
    "id": "vBYQKfjiK-xS"
   },
   "source": [
    "### STEP 5: Heuristics Used For Rubik's cube\n",
    "\n",
    "### Admissible Heuristics\n",
    "\n",
    "*   __`h_1`:__  \n",
    "$$ \n",
    "h_1(c) = \\max_{f\\in\\text{Faces}(c)}\\#\\text{misplaced-edges}(f) \n",
    "$$\n",
    "Maximum over faces of the number of misplaced edge squares in each face.\n",
    "\n",
    "*   __`h_2`:__  \n",
    "$$\n",
    "\\begin{align}\n",
    "h_2(c) =& \\max_{f\\in\\text{Faces}(c)}\\#\\text{misplaced-corners}(f) \n",
    "\\end{align}\n",
    "$$\n",
    "Sum of max and min of the number of misplaced edge squares in each face.\n",
    "\n",
    "### Inadmissible Heuristics\n",
    "*   __`h_3`:__  \n",
    "$$\n",
    "\\bar h_3(c) = \\max_{f\\in\\text{Faces}(c)} \\left[\\#\\text{misplaced-edges}(f) + \\#\\text{misplaced-corners}(f) \\right]\n",
    "$$\n",
    "Maximum over faces of the number of misplaced edge squares plus the number of misplaced corner squares in each face.\n",
    "\n",
    "*   __`h_4`:__  \n",
    "$$\n",
    "\\begin{align}\n",
    "\\bar h_4(c) =& \\max_{f\\in\\text{Faces}(c)}\\left[ \\#\\text{misplaced-edges}(f) + \\#\\text{misplaced-corners}(f) \\right] + \\\\\n",
    "                      & \\min_{f\\in\\text{Faces}(c)}\\left[ \\#\\text{misplaced-edges}(f) + \\#\\text{misplaced-corners}(f) \\right] \n",
    "\\end{align}\n",
    "$$\n",
    "Sum of max and min of the number of misplaced edge squares plus the number of misplaced corner squares in each face.\n",
    "\n",
    "*   __`h_5`:__   \n",
    "$$\n",
    "\\bar h_5(c) = \\max_{f\\in\\text{Faces}(c)}\\#\\text{misplaced-edges}(f) +  \\max_{f\\in\\text{Faces}(c)} \\#\\text{misplaced-corners}(f)\n",
    "$$\n",
    "Maximum over faces of the number of misplaced edge squares in each face plus maximum over faces of the number of misplaced corner squares in each face\n",
    "\n",
    "\n"
   ]
  },
  {
   "cell_type": "code",
   "execution_count": 0,
   "metadata": {
    "colab": {},
    "colab_type": "code",
    "id": "VHq9f5p-K-xT"
   },
   "outputs": [],
   "source": [
    "def h_1(cube, problem=None):\n",
    "    result = {}\n",
    "    for face in rubik.Face:\n",
    "        face_array = cube.get_face(face)\n",
    "        cross = [(0, 1), (1, 0), (1, 2), (2, 1)]\n",
    "        result[face] = sum(face_array[c] != face_array[1, 1] for c in cross)\n",
    "    return max(result.values())\n",
    "  \n",
    "\n",
    "def h_2(cube, problem=None):\n",
    "    result = {}\n",
    "    for face in rubik.Face:\n",
    "        face_array = cube.get_face(face)\n",
    "        corners = [(0,0), (0,2), (2,0), (2,2)]\n",
    "        result[face]  = sum(face_array[c] != face_array[add_c(c[0]),c[1]] and face_array[c] != face_array[c[0],add_c(c[1])]  for c in corners)\n",
    "          \n",
    "    return max(result.values())\n",
    "\n",
    "\n",
    "def add_c(i):\n",
    "  if i == 0:\n",
    "    return i+1\n",
    "  elif i == 2:\n",
    "    return i-1\n",
    "  else:\n",
    "    return i\n",
    "  \n",
    "def h_3(cube, problem=None):\n",
    "    result = {}\n",
    "    for face in rubik.Face:\n",
    "        face_array = cube.get_face(face)\n",
    "        cross = [(0, 1), (1, 0), (1, 2), (2, 1)]\n",
    "        result[face] = sum(face_array[c] != face_array[1, 1] for c in cross)\n",
    "        corners = [(0,0), (0,2), (2,0), (2,2)]\n",
    "        result[face]  += sum(face_array[c] != face_array[add_c(c[0]),c[1]] and face_array[c] != face_array[c[0],add_c(c[1])]  for c in corners)\n",
    "          \n",
    "    return max(result.values())\n",
    "\n",
    "def h_4(cube, problemtt=None):\n",
    "    result = {}\n",
    "    for face in rubik.Face:\n",
    "        face_array = cube.get_face(face)\n",
    "        cross = [(0, 1), (1, 0), (1, 2), (2, 1)]\n",
    "        result[face] = sum(face_array[c] != face_array[1, 1] for c in cross)\n",
    "        corners = [(0,0), (0,2), (2,0), (2,2)]\n",
    "        result[face]  += sum(face_array[c] != face_array[add_c(c[0]),c[1]] and face_array[c] != face_array[c[0],add_c(c[1])]  for c in corners)\n",
    "        \n",
    "    return max(result.values())+min(result.values())    \n",
    "  \n",
    "def h_5(cube, problem=None):\n",
    "    result_edges = {}\n",
    "    result_corners = {}\n",
    "    for face in rubik.Face:\n",
    "        face_array = cube.get_face(face)\n",
    "        cross = [(0, 1), (1, 0), (1, 2), (2, 1)]\n",
    "        result_edges[face] = sum(face_array[c] != face_array[1, 1] for c in cross)\n",
    "        corners = [(0,0), (0,2), (2,0), (2,2)]\n",
    "        result_corners[face] = sum(face_array[c] != face_array[add_c(c[0]),c[1]] and face_array[c] != face_array[c[0],add_c(c[1])]  for c in corners)\n",
    "        \n",
    "    return max(result_edges.values())+max(result_corners.values())"
   ]
  },
  {
   "cell_type": "markdown",
   "metadata": {
    "colab_type": "text",
    "id": "ZACP6o88K-xV"
   },
   "source": [
    "#### STEP 5.1 : Heuristics Comparison"
   ]
  },
  {
   "cell_type": "code",
   "execution_count": 0,
   "metadata": {
    "colab": {},
    "colab_type": "code",
    "id": "H5UvWledK-xV"
   },
   "outputs": [],
   "source": [
    "def compare_and_plot(heuristics, iterations, d_range, title):\n",
    "  # compare the heuristics\n",
    "  df = rubik.compare_heuristics(\n",
    "      heuristics=heuristics,\n",
    "      cube_layers=3,\n",
    "      d_values=d_range,\n",
    "      iterations=iterations\n",
    "  )\n",
    "  # plot the results\n",
    "  sns.barplot(x='num_scrambles', y='expansions', \n",
    "              hue='heuristic_name', data=df).set_yscale('log');\n",
    "  plt.title('Heuristics Comparison\\n' + title + '\\n' + \n",
    "            'Average over %d iterations' % iterations);\n",
    "  return df"
   ]
  },
  {
   "cell_type": "code",
   "execution_count": 0,
   "metadata": {
    "colab": {},
    "colab_type": "code",
    "id": "MuTTIat2K-xY"
   },
   "outputs": [],
   "source": [
    "iterations = 10\n",
    "d_values = np.arange(1, 8)\n",
    "heuristics = {r'$h_1$': h_1,\n",
    "              r'$h_2$': h_2,\n",
    "              r'$\\bar h_3$': h_3,\n",
    "              r'$\\bar h_4$': h_4,\n",
    "              r'$\\bar h_5$': h_5}\n",
    "\n",
    "df1 = compare_and_plot(heuristics, iterations, d_values, 'Just Regulars');"
   ]
  },
  {
   "cell_type": "code",
   "execution_count": 0,
   "metadata": {
    "colab": {},
    "colab_type": "code",
    "id": "gbD9d-BcK-xa"
   },
   "outputs": [],
   "source": [
    "iterations = 5\n",
    "d_values = np.arange(8, 11)\n",
    "heuristics = {r'$\\bar h_3$': h_3,\n",
    "              r'$\\bar h_4$': h_4,\n",
    "              r'$\\bar h_5$': h_5}\n",
    "\n",
    "df2 = compare_and_plot(heuristics, iterations, d_values, 'Just Regulars');"
   ]
  },
  {
   "cell_type": "markdown",
   "metadata": {
    "colab_type": "text",
    "id": "wf7gUTbeK-xd"
   },
   "source": [
    "###### $Observation$\n",
    "Based on the observation above it's clear that the admissible heuristics can't handle scrambles of more than 6 moves.\n",
    "\n",
    "From the inadmissible heuristics, it seems that $\\bar h_4$ has performed the best in terms of node expansions, therefore *inadmissible* is winner."
   ]
  },
  {
   "cell_type": "markdown",
   "metadata": {
    "colab_type": "text",
    "id": "nGZZ73gRK-xd"
   },
   "source": [
    "#### STEP 5.2 : Heuristics Learning"
   ]
  },
  {
   "cell_type": "code",
   "execution_count": 0,
   "metadata": {
    "colab": {},
    "colab_type": "code",
    "id": "Ptn9VGkPK-xe"
   },
   "outputs": [],
   "source": [
    "# number of states in each distance from goal\n",
    "# taken from http://cube20.org/qtm/\n",
    "count_vector = np.array([1, 12, 114, 1068, 10011, 93840, 878880, 8221632,\n",
    "                         76843595, 717789576, 6701836858, 62549615248,\n",
    "                         583570100997, 5442351625028, 50729620202582,\n",
    "                         472495678811004, 4393570406220123, 40648181519827392,\n",
    "                         368071526203620348, 3e18, 14e18, 19e18, 7e18, 24e15,\n",
    "                         150000, 36, 3])\n",
    "\n",
    "\n",
    "def create_prob_vector(lower, upper):\n",
    "  vec = count_vector[lower:upper]\n",
    "  return vec / np.sum(vec)\n",
    "\n",
    "\n",
    "def convex_combination(v , u, alpha):\n",
    "  \"\"\" return covex combination of u, v i.e v*alpha + u*(1- alpha) \"\"\"\n",
    "  assert len(u) == len(v), 'u ,v must have same length'\n",
    "  assert 0 <= alpha <= 1, 'alpha must be between 0 and 1'\n",
    "  return np.array(v)*alpha + np.array(u)*(1-alpha)\n",
    "\n",
    "\n",
    "def convex_combination_probabilities(alpha, lower, upper):\n",
    "  \"\"\" \n",
    "  returns convex combination of real probability and uniform distribution\n",
    "  real_probabilites*alpha + uniform*(1- alpha)\n",
    "  \"\"\"\n",
    "  rel_prob = create_prob_vector(lower, upper)\n",
    "  n = len(rel_prob)\n",
    "  uniform = np.ones(n) / n\n",
    "  return convex_combination(rel_prob, uniform, alpha)\n",
    "\n",
    "\n",
    "def get_features_from_cube(cube):\n",
    "  \"\"\" transforms the cube's array to 1d binary array \"\"\"\n",
    "  binary_array = keras.utils.to_categorical(cube.to_array(), rubik.NUM_FACES)\n",
    "  return binary_array.flatten()\n",
    "\n",
    "\n",
    "def data_generator(cube_layers, max_d, batch_size, p=None):\n",
    "  \"\"\"\n",
    "  generates batches of scrambled cubes data, coupled with the number\n",
    "  of scramble moves per row\n",
    "  \"\"\"\n",
    "  new_dim = len(get_features_from_cube(rubik.Cube(cube_layers)))\n",
    "  while True:\n",
    "    data = np.empty((batch_size, new_dim), dtype=np.int8)\n",
    "    labels = np.empty(batch_size, dtype=np.int8)\n",
    "    for i in range(batch_size):\n",
    "      c = rubik.Cube(cube_layers)\n",
    "      d = np.random.choice(np.arange(max_d+1), p=p)\n",
    "      rand_seq = rubik.generate_random_sequence(cube_layers, d)\n",
    "      c.apply(rand_seq)\n",
    "      data[i, :] = get_features_from_cube(c)\n",
    "      labels[i] = d\n",
    "    yield data, labels\n",
    "    \n",
    "\n",
    "def model_to_heuristic(model):\n",
    "  \"\"\" creates a heuristic based on the given keras model \"\"\"\n",
    "  \n",
    "  def _model_h(cube, problem=None):\n",
    "    features = get_features_from_cube(cube)\n",
    "    return model.predict(np.reshape(features, (1, -1)))[0][0]\n",
    "  \n",
    "  return _model_h\n",
    "\n",
    "\n",
    "def get_model_filename(layers, max_d, hidden_units):\n",
    "  delim = '_'\n",
    "  suffix = '.h5'\n",
    "  return delim.join([str(layers), str(max_d)] + \n",
    "                    [str(h) for h in hidden_units]) + suffix"
   ]
  },
  {
   "cell_type": "markdown",
   "metadata": {
    "colab_type": "text",
    "id": "-A9YeBuWK-xg"
   },
   "source": [
    "#### 5.3 : Training With Different Parameters\n",
    "Train different net architectures and compare them:\n",
    "* $\\hat h_1$: 3 layers with 70, 60 and 50 neurons respectively\n",
    "* $\\hat h_2$: 4 layers with 50 neurons in each layer\n",
    "* $\\hat h_3$: 5 layers with 50, 40, 30, 20, 20 neurons"
   ]
  },
  {
   "cell_type": "code",
   "execution_count": 0,
   "metadata": {
    "colab": {},
    "colab_type": "code",
    "id": "ppXa6s_qK-xg"
   },
   "outputs": [],
   "source": [
    "!mkdir models\n",
    "!wget  -O models/m1.h5 -q\n",
    "!wget  -O models/m2.h5 -q\n",
    "!wget  -O models/m3.h5 -q\n",
    "\n",
    "m1, m2, m3 = [keras.models.load_model('models/m%d.h5' % i) for i in [1, 2, 3]]"
   ]
  },
  {
   "cell_type": "code",
   "execution_count": 0,
   "metadata": {
    "colab": {},
    "colab_type": "code",
    "id": "BB2G6wFnK-xj"
   },
   "outputs": [],
   "source": [
    "steps = 20\n",
    "iterations = 10\n",
    "batch_size = 8\n",
    "max_d = 25\n",
    "layers = 3\n",
    "p = convex_combination_probabilities(0.1, 0, max_d+1)\n",
    "loss = np.empty((iterations, 3))\n",
    "\n",
    "print('Evaluating models...')\n",
    "for i, m in enumerate([m1, m2, m3]):\n",
    "  for j in range(iterations):\n",
    "    loss[j, i] = m.evaluate_generator(\n",
    "        data_generator(layers, max_d, batch_size, p), steps\n",
    "    )\n",
    "\n",
    "sns.barplot(data=pd.DataFrame({'$\\hat h_1$': loss[:, 0],\n",
    "                               '$\\hat h_2$': loss[:, 1],\n",
    "                               '$\\hat h_3$': loss[:, 2]}));\n",
    "plt.ylabel('average loss');\n",
    "plt.title('Models Evaluation\\n' + \n",
    "          'Average over %d examples' % (steps * iterations * batch_size));"
   ]
  },
  {
   "cell_type": "markdown",
   "metadata": {
    "colab_type": "text",
    "id": "vvkOqQDkK-xl"
   },
   "source": [
    "#### 5.4 : Models Comparison"
   ]
  },
  {
   "cell_type": "code",
   "execution_count": 0,
   "metadata": {
    "colab": {},
    "colab_type": "code",
    "id": "tJzEBdVkK-xn"
   },
   "outputs": [],
   "source": [
    "hh1, hh2, hh3 = [model_to_heuristic(m) for m in [m1, m2, m3]]"
   ]
  },
  {
   "cell_type": "code",
   "execution_count": null,
   "metadata": {},
   "outputs": [],
   "source": [
    "d_values = np.arange(1, 11)\n",
    "iterations = 5\n",
    "heuristics = {r'$\\hat h_1$': hh1,\n",
    "              r'$\\hat h_2$': hh2,\n",
    "              r'$\\hat h_3$': hh3}\n",
    "\n",
    "df3 = compare_and_plot(heuristics, iterations, d_values, 'Just Learned');"
   ]
  },
  {
   "cell_type": "markdown",
   "metadata": {
    "colab_type": "text",
    "id": "_Ou2iqrcK-xp"
   },
   "source": [
    "###### $Observation$\n",
    "The evaluation losses for the different models are too similar to determine which one is the most accurate.\n",
    "From the $A^*$ analysis, it seems that $\\hat h_2$ has the smallest number of node expansions (note the log scale!), therefore we compare it next to the regular $\\bar h_4$ heuristics."
   ]
  },
  {
   "cell_type": "markdown",
   "metadata": {
    "colab_type": "text",
    "id": "TAc5w-8eK-xr"
   },
   "source": [
    "#### 5.5 : Comparing Regular to Learned Heuristics"
   ]
  },
  {
   "cell_type": "code",
   "execution_count": 0,
   "metadata": {
    "colab": {},
    "colab_type": "code",
    "id": "6NN1mvIYK-xs"
   },
   "outputs": [],
   "source": [
    "heuristics = {r'$\\hat h_2$': hh2,\n",
    "              r'$\\bar h_4$': h_4}\n",
    "d_values = np.arange(1, 11)\n",
    "iterations = 5\n",
    "\n",
    "df4 = compare_and_plot(heuristics, iterations, d_values, \n",
    "                       'Regular vs Learned');"
   ]
  }
 ],
 "metadata": {
  "accelerator": "GPU",
  "colab": {
   "collapsed_sections": [],
   "name": "Neural_Rubik.ipynb",
   "provenance": [],
   "version": "0.3.2"
  },
  "kernelspec": {
   "display_name": "Python 3",
   "language": "python",
   "name": "python3"
  },
  "language_info": {
   "codemirror_mode": {
    "name": "ipython",
    "version": 3
   },
   "file_extension": ".py",
   "mimetype": "text/x-python",
   "name": "python",
   "nbconvert_exporter": "python",
   "pygments_lexer": "ipython3",
   "version": "3.7.1"
  }
 },
 "nbformat": 4,
 "nbformat_minor": 1
}
